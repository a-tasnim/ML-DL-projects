{
  "nbformat": 4,
  "nbformat_minor": 0,
  "metadata": {
    "colab": {
      "provenance": []
    },
    "kernelspec": {
      "name": "python3",
      "display_name": "Python 3"
    },
    "language_info": {
      "name": "python"
    }
  },
  "cells": [
    {
      "cell_type": "code",
      "metadata": {
        "id": "DPGyDl5pYwqK"
      },
      "source": [
        "from google.colab import drive\n"
      ],
      "execution_count": null,
      "outputs": []
    },
    {
      "cell_type": "code",
      "metadata": {
        "colab": {
          "base_uri": "https://localhost:8080/"
        },
        "id": "AX_QEokIbtpX",
        "outputId": "6e602733-0477-4db4-8eae-46c66ace613b"
      },
      "source": [
        "drive.mount('/content/drive')"
      ],
      "execution_count": null,
      "outputs": [
        {
          "output_type": "stream",
          "name": "stdout",
          "text": [
            "Mounted at /content/drive\n"
          ]
        }
      ]
    },
    {
      "cell_type": "code",
      "metadata": {
        "id": "YT7KExyIdACc"
      },
      "source": [
        "import pandas as pd\n",
        "from sklearn.tree import DecisionTreeClassifier # Import Decision Tree Classifier\n",
        "from sklearn.model_selection import train_test_split # Import train_test_split function\n",
        "from sklearn import metrics #Import scikit-learn metrics module for accuracy calculation\n",
        "from sklearn.preprocessing import LabelEncoder\n",
        "from sklearn.metrics import confusion_matrix\n",
        "import seaborn as sns\n",
        "import numpy as np\n",
        "import matplotlib.pyplot as plt\n",
        "from sklearn.metrics import classification_report\n"
      ],
      "execution_count": null,
      "outputs": []
    },
    {
      "cell_type": "code",
      "metadata": {
        "id": "ioiczMrddD8b"
      },
      "source": [
        "#IoT Fridge\n",
        "data = pd.read_csv('/content/drive/MyDrive/ToN_IoT_dataset/Processed_IoT_dataset/IoT_Fridge.csv')\n",
        "\n"
      ],
      "execution_count": null,
      "outputs": []
    },
    {
      "cell_type": "code",
      "metadata": {
        "id": "_8uNZjGidW3V",
        "colab": {
          "base_uri": "https://localhost:8080/",
          "height": 417
        },
        "outputId": "338b9f95-0c3f-4acf-a6c3-af05b46a65df"
      },
      "source": [
        "data\n",
        "\n"
      ],
      "execution_count": null,
      "outputs": [
        {
          "output_type": "execute_result",
          "data": {
            "text/html": [
              "<div>\n",
              "<style scoped>\n",
              "    .dataframe tbody tr th:only-of-type {\n",
              "        vertical-align: middle;\n",
              "    }\n",
              "\n",
              "    .dataframe tbody tr th {\n",
              "        vertical-align: top;\n",
              "    }\n",
              "\n",
              "    .dataframe thead th {\n",
              "        text-align: right;\n",
              "    }\n",
              "</style>\n",
              "<table border=\"1\" class=\"dataframe\">\n",
              "  <thead>\n",
              "    <tr style=\"text-align: right;\">\n",
              "      <th></th>\n",
              "      <th>date</th>\n",
              "      <th>time</th>\n",
              "      <th>fridge_temperature</th>\n",
              "      <th>temp_condition</th>\n",
              "      <th>label</th>\n",
              "      <th>type</th>\n",
              "    </tr>\n",
              "  </thead>\n",
              "  <tbody>\n",
              "    <tr>\n",
              "      <th>0</th>\n",
              "      <td>31-Mar-19</td>\n",
              "      <td>12:36:52</td>\n",
              "      <td>13.10</td>\n",
              "      <td>high</td>\n",
              "      <td>0</td>\n",
              "      <td>normal</td>\n",
              "    </tr>\n",
              "    <tr>\n",
              "      <th>1</th>\n",
              "      <td>31-Mar-19</td>\n",
              "      <td>12:36:53</td>\n",
              "      <td>8.65</td>\n",
              "      <td>high</td>\n",
              "      <td>0</td>\n",
              "      <td>normal</td>\n",
              "    </tr>\n",
              "    <tr>\n",
              "      <th>2</th>\n",
              "      <td>31-Mar-19</td>\n",
              "      <td>12:36:54</td>\n",
              "      <td>2.00</td>\n",
              "      <td>low</td>\n",
              "      <td>0</td>\n",
              "      <td>normal</td>\n",
              "    </tr>\n",
              "    <tr>\n",
              "      <th>3</th>\n",
              "      <td>31-Mar-19</td>\n",
              "      <td>12:36:55</td>\n",
              "      <td>4.80</td>\n",
              "      <td>low</td>\n",
              "      <td>0</td>\n",
              "      <td>normal</td>\n",
              "    </tr>\n",
              "    <tr>\n",
              "      <th>4</th>\n",
              "      <td>31-Mar-19</td>\n",
              "      <td>12:36:56</td>\n",
              "      <td>10.70</td>\n",
              "      <td>high</td>\n",
              "      <td>0</td>\n",
              "      <td>normal</td>\n",
              "    </tr>\n",
              "    <tr>\n",
              "      <th>...</th>\n",
              "      <td>...</td>\n",
              "      <td>...</td>\n",
              "      <td>...</td>\n",
              "      <td>...</td>\n",
              "      <td>...</td>\n",
              "      <td>...</td>\n",
              "    </tr>\n",
              "    <tr>\n",
              "      <th>587071</th>\n",
              "      <td>27-Apr-19</td>\n",
              "      <td>12:41:17</td>\n",
              "      <td>4.00</td>\n",
              "      <td>low</td>\n",
              "      <td>0</td>\n",
              "      <td>normal</td>\n",
              "    </tr>\n",
              "    <tr>\n",
              "      <th>587072</th>\n",
              "      <td>27-Apr-19</td>\n",
              "      <td>12:41:17</td>\n",
              "      <td>6.05</td>\n",
              "      <td>high</td>\n",
              "      <td>0</td>\n",
              "      <td>normal</td>\n",
              "    </tr>\n",
              "    <tr>\n",
              "      <th>587073</th>\n",
              "      <td>27-Apr-19</td>\n",
              "      <td>12:41:17</td>\n",
              "      <td>12.80</td>\n",
              "      <td>high</td>\n",
              "      <td>0</td>\n",
              "      <td>normal</td>\n",
              "    </tr>\n",
              "    <tr>\n",
              "      <th>587074</th>\n",
              "      <td>27-Apr-19</td>\n",
              "      <td>12:41:18</td>\n",
              "      <td>6.50</td>\n",
              "      <td>high</td>\n",
              "      <td>0</td>\n",
              "      <td>normal</td>\n",
              "    </tr>\n",
              "    <tr>\n",
              "      <th>587075</th>\n",
              "      <td>27-Apr-19</td>\n",
              "      <td>12:41:20</td>\n",
              "      <td>5.30</td>\n",
              "      <td>low</td>\n",
              "      <td>0</td>\n",
              "      <td>normal</td>\n",
              "    </tr>\n",
              "  </tbody>\n",
              "</table>\n",
              "<p>587076 rows × 6 columns</p>\n",
              "</div>"
            ],
            "text/plain": [
              "             date            time  ...  label    type\n",
              "0       31-Mar-19     12:36:52     ...      0  normal\n",
              "1       31-Mar-19     12:36:53     ...      0  normal\n",
              "2       31-Mar-19     12:36:54     ...      0  normal\n",
              "3       31-Mar-19     12:36:55     ...      0  normal\n",
              "4       31-Mar-19     12:36:56     ...      0  normal\n",
              "...           ...             ...  ...    ...     ...\n",
              "587071  27-Apr-19       12:41:17   ...      0  normal\n",
              "587072  27-Apr-19       12:41:17   ...      0  normal\n",
              "587073  27-Apr-19       12:41:17   ...      0  normal\n",
              "587074  27-Apr-19       12:41:18   ...      0  normal\n",
              "587075  27-Apr-19       12:41:20   ...      0  normal\n",
              "\n",
              "[587076 rows x 6 columns]"
            ]
          },
          "metadata": {},
          "execution_count": 68
        }
      ]
    },
    {
      "cell_type": "code",
      "metadata": {
        "colab": {
          "base_uri": "https://localhost:8080/"
        },
        "id": "VjYsLqLPgkr7",
        "outputId": "e0348acd-ad76-43d2-8e3b-c933981c2493"
      },
      "source": [
        "print(data.shape)\n",
        "print(\"No of rows\",data.shape[0])\n",
        "print(\"No of columns\",data.shape[1])"
      ],
      "execution_count": null,
      "outputs": [
        {
          "output_type": "stream",
          "name": "stdout",
          "text": [
            "(587076, 6)\n",
            "No of rows 587076\n",
            "No of columns 6\n"
          ]
        }
      ]
    },
    {
      "cell_type": "code",
      "metadata": {
        "id": "0SQumCRihilB"
      },
      "source": [
        "inputs = data.drop(['label','type'],axis = 'columns')\n",
        "target_var = data['label']\n"
      ],
      "execution_count": null,
      "outputs": []
    },
    {
      "cell_type": "code",
      "metadata": {
        "id": "tUzEOVDViamI",
        "colab": {
          "base_uri": "https://localhost:8080/",
          "height": 417
        },
        "outputId": "645dd237-99b9-4372-a8d1-ee322fdf981f"
      },
      "source": [
        "inputs"
      ],
      "execution_count": null,
      "outputs": [
        {
          "output_type": "execute_result",
          "data": {
            "text/html": [
              "<div>\n",
              "<style scoped>\n",
              "    .dataframe tbody tr th:only-of-type {\n",
              "        vertical-align: middle;\n",
              "    }\n",
              "\n",
              "    .dataframe tbody tr th {\n",
              "        vertical-align: top;\n",
              "    }\n",
              "\n",
              "    .dataframe thead th {\n",
              "        text-align: right;\n",
              "    }\n",
              "</style>\n",
              "<table border=\"1\" class=\"dataframe\">\n",
              "  <thead>\n",
              "    <tr style=\"text-align: right;\">\n",
              "      <th></th>\n",
              "      <th>date</th>\n",
              "      <th>time</th>\n",
              "      <th>fridge_temperature</th>\n",
              "      <th>temp_condition</th>\n",
              "    </tr>\n",
              "  </thead>\n",
              "  <tbody>\n",
              "    <tr>\n",
              "      <th>0</th>\n",
              "      <td>31-Mar-19</td>\n",
              "      <td>12:36:52</td>\n",
              "      <td>13.10</td>\n",
              "      <td>high</td>\n",
              "    </tr>\n",
              "    <tr>\n",
              "      <th>1</th>\n",
              "      <td>31-Mar-19</td>\n",
              "      <td>12:36:53</td>\n",
              "      <td>8.65</td>\n",
              "      <td>high</td>\n",
              "    </tr>\n",
              "    <tr>\n",
              "      <th>2</th>\n",
              "      <td>31-Mar-19</td>\n",
              "      <td>12:36:54</td>\n",
              "      <td>2.00</td>\n",
              "      <td>low</td>\n",
              "    </tr>\n",
              "    <tr>\n",
              "      <th>3</th>\n",
              "      <td>31-Mar-19</td>\n",
              "      <td>12:36:55</td>\n",
              "      <td>4.80</td>\n",
              "      <td>low</td>\n",
              "    </tr>\n",
              "    <tr>\n",
              "      <th>4</th>\n",
              "      <td>31-Mar-19</td>\n",
              "      <td>12:36:56</td>\n",
              "      <td>10.70</td>\n",
              "      <td>high</td>\n",
              "    </tr>\n",
              "    <tr>\n",
              "      <th>...</th>\n",
              "      <td>...</td>\n",
              "      <td>...</td>\n",
              "      <td>...</td>\n",
              "      <td>...</td>\n",
              "    </tr>\n",
              "    <tr>\n",
              "      <th>587071</th>\n",
              "      <td>27-Apr-19</td>\n",
              "      <td>12:41:17</td>\n",
              "      <td>4.00</td>\n",
              "      <td>low</td>\n",
              "    </tr>\n",
              "    <tr>\n",
              "      <th>587072</th>\n",
              "      <td>27-Apr-19</td>\n",
              "      <td>12:41:17</td>\n",
              "      <td>6.05</td>\n",
              "      <td>high</td>\n",
              "    </tr>\n",
              "    <tr>\n",
              "      <th>587073</th>\n",
              "      <td>27-Apr-19</td>\n",
              "      <td>12:41:17</td>\n",
              "      <td>12.80</td>\n",
              "      <td>high</td>\n",
              "    </tr>\n",
              "    <tr>\n",
              "      <th>587074</th>\n",
              "      <td>27-Apr-19</td>\n",
              "      <td>12:41:18</td>\n",
              "      <td>6.50</td>\n",
              "      <td>high</td>\n",
              "    </tr>\n",
              "    <tr>\n",
              "      <th>587075</th>\n",
              "      <td>27-Apr-19</td>\n",
              "      <td>12:41:20</td>\n",
              "      <td>5.30</td>\n",
              "      <td>low</td>\n",
              "    </tr>\n",
              "  </tbody>\n",
              "</table>\n",
              "<p>587076 rows × 4 columns</p>\n",
              "</div>"
            ],
            "text/plain": [
              "             date            time  fridge_temperature temp_condition\n",
              "0       31-Mar-19     12:36:52                  13.10          high \n",
              "1       31-Mar-19     12:36:53                   8.65          high \n",
              "2       31-Mar-19     12:36:54                   2.00           low \n",
              "3       31-Mar-19     12:36:55                   4.80           low \n",
              "4       31-Mar-19     12:36:56                  10.70          high \n",
              "...           ...             ...                 ...            ...\n",
              "587071  27-Apr-19       12:41:17                 4.00            low\n",
              "587072  27-Apr-19       12:41:17                 6.05           high\n",
              "587073  27-Apr-19       12:41:17                12.80           high\n",
              "587074  27-Apr-19       12:41:18                 6.50           high\n",
              "587075  27-Apr-19       12:41:20                 5.30            low\n",
              "\n",
              "[587076 rows x 4 columns]"
            ]
          },
          "metadata": {},
          "execution_count": 71
        }
      ]
    },
    {
      "cell_type": "code",
      "metadata": {
        "id": "R2ZZZ-LujlA_"
      },
      "source": [],
      "execution_count": null,
      "outputs": []
    },
    {
      "cell_type": "code",
      "metadata": {
        "id": "kDq9lID-j4r1"
      },
      "source": [
        "le_date = LabelEncoder()\n",
        "le_time = LabelEncoder()\n",
        "le_fridge_temperature = LabelEncoder()\n",
        "le_temp_condition = LabelEncoder()"
      ],
      "execution_count": null,
      "outputs": []
    },
    {
      "cell_type": "code",
      "metadata": {
        "id": "K-n6RTFjknur",
        "colab": {
          "base_uri": "https://localhost:8080/",
          "height": 203
        },
        "outputId": "928cd369-2870-47c0-c25a-345b4935f9ed"
      },
      "source": [
        "inputs['date_n'] = le_date.fit_transform(inputs['date'])\n",
        "inputs['time_n'] = le_time.fit_transform(inputs['time'])\n",
        "inputs['fridge_temperature_n'] = le_fridge_temperature.fit_transform(inputs['fridge_temperature'])\n",
        "inputs['temp_condition_n'] = le_temp_condition.fit_transform(inputs['temp_condition'])\n",
        "inputs.head()\n"
      ],
      "execution_count": null,
      "outputs": [
        {
          "output_type": "execute_result",
          "data": {
            "text/html": [
              "<div>\n",
              "<style scoped>\n",
              "    .dataframe tbody tr th:only-of-type {\n",
              "        vertical-align: middle;\n",
              "    }\n",
              "\n",
              "    .dataframe tbody tr th {\n",
              "        vertical-align: top;\n",
              "    }\n",
              "\n",
              "    .dataframe thead th {\n",
              "        text-align: right;\n",
              "    }\n",
              "</style>\n",
              "<table border=\"1\" class=\"dataframe\">\n",
              "  <thead>\n",
              "    <tr style=\"text-align: right;\">\n",
              "      <th></th>\n",
              "      <th>date</th>\n",
              "      <th>time</th>\n",
              "      <th>fridge_temperature</th>\n",
              "      <th>temp_condition</th>\n",
              "      <th>date_n</th>\n",
              "      <th>time_n</th>\n",
              "      <th>fridge_temperature_n</th>\n",
              "      <th>temp_condition_n</th>\n",
              "    </tr>\n",
              "  </thead>\n",
              "  <tbody>\n",
              "    <tr>\n",
              "      <th>0</th>\n",
              "      <td>31-Mar-19</td>\n",
              "      <td>12:36:52</td>\n",
              "      <td>13.10</td>\n",
              "      <td>high</td>\n",
              "      <td>11</td>\n",
              "      <td>10707</td>\n",
              "      <td>144</td>\n",
              "      <td>1</td>\n",
              "    </tr>\n",
              "    <tr>\n",
              "      <th>1</th>\n",
              "      <td>31-Mar-19</td>\n",
              "      <td>12:36:53</td>\n",
              "      <td>8.65</td>\n",
              "      <td>high</td>\n",
              "      <td>11</td>\n",
              "      <td>10708</td>\n",
              "      <td>94</td>\n",
              "      <td>1</td>\n",
              "    </tr>\n",
              "    <tr>\n",
              "      <th>2</th>\n",
              "      <td>31-Mar-19</td>\n",
              "      <td>12:36:54</td>\n",
              "      <td>2.00</td>\n",
              "      <td>low</td>\n",
              "      <td>11</td>\n",
              "      <td>10709</td>\n",
              "      <td>7</td>\n",
              "      <td>4</td>\n",
              "    </tr>\n",
              "    <tr>\n",
              "      <th>3</th>\n",
              "      <td>31-Mar-19</td>\n",
              "      <td>12:36:55</td>\n",
              "      <td>4.80</td>\n",
              "      <td>low</td>\n",
              "      <td>11</td>\n",
              "      <td>10710</td>\n",
              "      <td>40</td>\n",
              "      <td>4</td>\n",
              "    </tr>\n",
              "    <tr>\n",
              "      <th>4</th>\n",
              "      <td>31-Mar-19</td>\n",
              "      <td>12:36:56</td>\n",
              "      <td>10.70</td>\n",
              "      <td>high</td>\n",
              "      <td>11</td>\n",
              "      <td>10711</td>\n",
              "      <td>117</td>\n",
              "      <td>1</td>\n",
              "    </tr>\n",
              "  </tbody>\n",
              "</table>\n",
              "</div>"
            ],
            "text/plain": [
              "        date            time  ...  fridge_temperature_n temp_condition_n\n",
              "0  31-Mar-19     12:36:52     ...                   144                1\n",
              "1  31-Mar-19     12:36:53     ...                    94                1\n",
              "2  31-Mar-19     12:36:54     ...                     7                4\n",
              "3  31-Mar-19     12:36:55     ...                    40                4\n",
              "4  31-Mar-19     12:36:56     ...                   117                1\n",
              "\n",
              "[5 rows x 8 columns]"
            ]
          },
          "metadata": {},
          "execution_count": 73
        }
      ]
    },
    {
      "cell_type": "code",
      "metadata": {
        "colab": {
          "base_uri": "https://localhost:8080/",
          "height": 203
        },
        "id": "xPDYa5dal72W",
        "outputId": "67ea1873-1946-4085-a1f5-b26ffd52cdd9"
      },
      "source": [
        "new_inputs = inputs.drop(['date','time','fridge_temperature','temp_condition'],axis = 'columns')\n",
        "new_inputs.head()"
      ],
      "execution_count": null,
      "outputs": [
        {
          "output_type": "execute_result",
          "data": {
            "text/html": [
              "<div>\n",
              "<style scoped>\n",
              "    .dataframe tbody tr th:only-of-type {\n",
              "        vertical-align: middle;\n",
              "    }\n",
              "\n",
              "    .dataframe tbody tr th {\n",
              "        vertical-align: top;\n",
              "    }\n",
              "\n",
              "    .dataframe thead th {\n",
              "        text-align: right;\n",
              "    }\n",
              "</style>\n",
              "<table border=\"1\" class=\"dataframe\">\n",
              "  <thead>\n",
              "    <tr style=\"text-align: right;\">\n",
              "      <th></th>\n",
              "      <th>date_n</th>\n",
              "      <th>time_n</th>\n",
              "      <th>fridge_temperature_n</th>\n",
              "      <th>temp_condition_n</th>\n",
              "    </tr>\n",
              "  </thead>\n",
              "  <tbody>\n",
              "    <tr>\n",
              "      <th>0</th>\n",
              "      <td>11</td>\n",
              "      <td>10707</td>\n",
              "      <td>144</td>\n",
              "      <td>1</td>\n",
              "    </tr>\n",
              "    <tr>\n",
              "      <th>1</th>\n",
              "      <td>11</td>\n",
              "      <td>10708</td>\n",
              "      <td>94</td>\n",
              "      <td>1</td>\n",
              "    </tr>\n",
              "    <tr>\n",
              "      <th>2</th>\n",
              "      <td>11</td>\n",
              "      <td>10709</td>\n",
              "      <td>7</td>\n",
              "      <td>4</td>\n",
              "    </tr>\n",
              "    <tr>\n",
              "      <th>3</th>\n",
              "      <td>11</td>\n",
              "      <td>10710</td>\n",
              "      <td>40</td>\n",
              "      <td>4</td>\n",
              "    </tr>\n",
              "    <tr>\n",
              "      <th>4</th>\n",
              "      <td>11</td>\n",
              "      <td>10711</td>\n",
              "      <td>117</td>\n",
              "      <td>1</td>\n",
              "    </tr>\n",
              "  </tbody>\n",
              "</table>\n",
              "</div>"
            ],
            "text/plain": [
              "   date_n  time_n  fridge_temperature_n  temp_condition_n\n",
              "0      11   10707                   144                 1\n",
              "1      11   10708                    94                 1\n",
              "2      11   10709                     7                 4\n",
              "3      11   10710                    40                 4\n",
              "4      11   10711                   117                 1"
            ]
          },
          "metadata": {},
          "execution_count": 74
        }
      ]
    },
    {
      "cell_type": "code",
      "metadata": {
        "id": "xNKQuP1pfhN_"
      },
      "source": [
        "#split dataset in features and target variable\n",
        "feature_cols = ['date_n', 'time_n', 'fridge_temperature_n', 'temp_condition_n']\n",
        "X = new_inputs[feature_cols] # Features\n",
        "y = target_var # Target variable"
      ],
      "execution_count": null,
      "outputs": []
    },
    {
      "cell_type": "code",
      "metadata": {
        "id": "zasY1bkcgIge"
      },
      "source": [
        "# Split dataset into training set and test set\n",
        "X_train, X_test, y_train, y_test = train_test_split(X, y, test_size=0.3, random_state=1) # 70% training and 30% test"
      ],
      "execution_count": null,
      "outputs": []
    },
    {
      "cell_type": "code",
      "metadata": {
        "id": "W6AfaPdWgX9L"
      },
      "source": [
        "# Create Decision Tree classifer object\n",
        "clf = DecisionTreeClassifier()\n",
        "\n",
        "# Train Decision Tree Classifer\n",
        "clf = clf.fit(X_train,y_train)\n",
        "\n",
        "#Predict the response for test dataset\n",
        "y_pred = clf.predict(X_test)"
      ],
      "execution_count": null,
      "outputs": []
    },
    {
      "cell_type": "code",
      "metadata": {
        "colab": {
          "base_uri": "https://localhost:8080/"
        },
        "id": "sKdXFs3jgkCJ",
        "outputId": "6dec643b-ad67-43d2-c453-70902b6cb55e"
      },
      "source": [
        "# Model Accuracy, how often is the classifier correct?\n",
        "print(\"Accuracy:\",metrics.accuracy_score(y_test, y_pred))"
      ],
      "execution_count": null,
      "outputs": [
        {
          "output_type": "stream",
          "name": "stdout",
          "text": [
            "Accuracy: 0.9947423107714495\n"
          ]
        }
      ]
    },
    {
      "cell_type": "code",
      "metadata": {
        "colab": {
          "base_uri": "https://localhost:8080/",
          "height": 265
        },
        "id": "W-khMo-T1fJl",
        "outputId": "537511fa-98f9-4919-844e-cc62abf3cdc2"
      },
      "source": [
        "\n",
        "conf_matrix = confusion_matrix(y_test, y_pred)\n",
        "group_names = ['True Pos','False Pos','False Neg','True Neg']\n",
        "group_counts = [\"{0:0.0f}\".format(value) for value in conf_matrix.flatten()]\n",
        "group_percentages = [\"{0:.2%}\".format(value) for value in conf_matrix.flatten()/np.sum(conf_matrix)]\n",
        "labels = [f\"{v1}\\n{v2}\\n{v3}\" for v1, v2, v3 in zip(group_names,group_counts,group_percentages)]\n",
        "labels = np.asarray(labels).reshape(2,2)\n",
        "ax = sns.heatmap(conf_matrix, annot=labels, fmt=\"\", cmap='Blues')\n",
        "ax.xaxis.set_ticklabels([1,0])\n",
        "ax.yaxis.set_ticklabels([1,0])\n",
        "plt.show()"
      ],
      "execution_count": null,
      "outputs": [
        {
          "output_type": "display_data",
          "data": {
            "image/png": "[encoded data removed]",
            "text/plain": [
              "<Figure size 432x288 with 2 Axes>"
            ]
          },
          "metadata": {
            "needs_background": "light"
          }
        }
      ]
    },
    {
      "cell_type": "code",
      "metadata": {
        "colab": {
          "base_uri": "https://localhost:8080/"
        },
        "id": "qjsIsgTKCvNJ",
        "outputId": "e06d7056-8d44-4fd4-89b7-276ecac7142e"
      },
      "source": [
        "\n",
        "print(classification_report(y_test, y_pred))"
      ],
      "execution_count": null,
      "outputs": [
        {
          "output_type": "stream",
          "name": "stdout",
          "text": [
            "              precision    recall  f1-score   support\n",
            "\n",
            "           0       1.00      1.00      1.00    150423\n",
            "           1       0.98      0.98      0.98     25700\n",
            "\n",
            "    accuracy                           0.99    176123\n",
            "   macro avg       0.99      0.99      0.99    176123\n",
            "weighted avg       0.99      0.99      0.99    176123\n",
            "\n"
          ]
        }
      ]
    },
    {
      "cell_type": "code",
      "metadata": {
        "id": "zjC7nCnOCoE5"
      },
      "source": [],
      "execution_count": null,
      "outputs": []
    },
    {
      "cell_type": "code",
      "metadata": {
        "id": "_RwwGx2DdhUF"
      },
      "source": [
        "#IoT GPS tracker\n",
        "data = pd.read_csv('/content/drive/MyDrive/ToN_IoT_dataset/Processed_IoT_dataset/IoT_GPS_Tracker.csv')"
      ],
      "execution_count": null,
      "outputs": []
    },
    {
      "cell_type": "code",
      "metadata": {
        "colab": {
          "base_uri": "https://localhost:8080/",
          "height": 419
        },
        "id": "CNssROsDhst0",
        "outputId": "0c93c701-55a3-46a4-da6e-85b9f3acb88c"
      },
      "source": [
        "data"
      ],
      "execution_count": null,
      "outputs": [
        {
          "output_type": "execute_result",
          "data": {
            "text/html": [
              "<div>\n",
              "<style scoped>\n",
              "    .dataframe tbody tr th:only-of-type {\n",
              "        vertical-align: middle;\n",
              "    }\n",
              "\n",
              "    .dataframe tbody tr th {\n",
              "        vertical-align: top;\n",
              "    }\n",
              "\n",
              "    .dataframe thead th {\n",
              "        text-align: right;\n",
              "    }\n",
              "</style>\n",
              "<table border=\"1\" class=\"dataframe\">\n",
              "  <thead>\n",
              "    <tr style=\"text-align: right;\">\n",
              "      <th></th>\n",
              "      <th>date</th>\n",
              "      <th>time</th>\n",
              "      <th>latitude</th>\n",
              "      <th>longitude</th>\n",
              "      <th>label</th>\n",
              "      <th>type</th>\n",
              "    </tr>\n",
              "  </thead>\n",
              "  <tbody>\n",
              "    <tr>\n",
              "      <th>0</th>\n",
              "      <td>31-Mar-19</td>\n",
              "      <td>12:36:52</td>\n",
              "      <td>0.000000</td>\n",
              "      <td>10.000000</td>\n",
              "      <td>0</td>\n",
              "      <td>normal</td>\n",
              "    </tr>\n",
              "    <tr>\n",
              "      <th>1</th>\n",
              "      <td>31-Mar-19</td>\n",
              "      <td>12:36:53</td>\n",
              "      <td>0.000000</td>\n",
              "      <td>10.000000</td>\n",
              "      <td>0</td>\n",
              "      <td>normal</td>\n",
              "    </tr>\n",
              "    <tr>\n",
              "      <th>2</th>\n",
              "      <td>31-Mar-19</td>\n",
              "      <td>12:36:54</td>\n",
              "      <td>0.000000</td>\n",
              "      <td>10.000000</td>\n",
              "      <td>0</td>\n",
              "      <td>normal</td>\n",
              "    </tr>\n",
              "    <tr>\n",
              "      <th>3</th>\n",
              "      <td>31-Mar-19</td>\n",
              "      <td>12:36:55</td>\n",
              "      <td>0.000000</td>\n",
              "      <td>10.000000</td>\n",
              "      <td>0</td>\n",
              "      <td>normal</td>\n",
              "    </tr>\n",
              "    <tr>\n",
              "      <th>4</th>\n",
              "      <td>31-Mar-19</td>\n",
              "      <td>12:36:56</td>\n",
              "      <td>0.000000</td>\n",
              "      <td>10.000000</td>\n",
              "      <td>0</td>\n",
              "      <td>normal</td>\n",
              "    </tr>\n",
              "    <tr>\n",
              "      <th>...</th>\n",
              "      <td>...</td>\n",
              "      <td>...</td>\n",
              "      <td>...</td>\n",
              "      <td>...</td>\n",
              "      <td>...</td>\n",
              "      <td>...</td>\n",
              "    </tr>\n",
              "    <tr>\n",
              "      <th>595681</th>\n",
              "      <td>27-Apr-19</td>\n",
              "      <td>12:41:16</td>\n",
              "      <td>182.523268</td>\n",
              "      <td>190.867134</td>\n",
              "      <td>0</td>\n",
              "      <td>normal</td>\n",
              "    </tr>\n",
              "    <tr>\n",
              "      <th>595682</th>\n",
              "      <td>27-Apr-19</td>\n",
              "      <td>12:41:16</td>\n",
              "      <td>183.122818</td>\n",
              "      <td>191.159551</td>\n",
              "      <td>0</td>\n",
              "      <td>normal</td>\n",
              "    </tr>\n",
              "    <tr>\n",
              "      <th>595683</th>\n",
              "      <td>27-Apr-19</td>\n",
              "      <td>12:41:17</td>\n",
              "      <td>247.820755</td>\n",
              "      <td>261.905963</td>\n",
              "      <td>0</td>\n",
              "      <td>normal</td>\n",
              "    </tr>\n",
              "    <tr>\n",
              "      <th>595684</th>\n",
              "      <td>27-Apr-19</td>\n",
              "      <td>12:41:17</td>\n",
              "      <td>246.000740</td>\n",
              "      <td>264.091992</td>\n",
              "      <td>0</td>\n",
              "      <td>normal</td>\n",
              "    </tr>\n",
              "    <tr>\n",
              "      <th>595685</th>\n",
              "      <td>27-Apr-19</td>\n",
              "      <td>12:41:18</td>\n",
              "      <td>180.896829</td>\n",
              "      <td>193.602285</td>\n",
              "      <td>0</td>\n",
              "      <td>normal</td>\n",
              "    </tr>\n",
              "  </tbody>\n",
              "</table>\n",
              "<p>595686 rows × 6 columns</p>\n",
              "</div>"
            ],
            "text/plain": [
              "             date        time    latitude   longitude  label    type\n",
              "0       31-Mar-19    12:36:52    0.000000   10.000000      0  normal\n",
              "1       31-Mar-19    12:36:53    0.000000   10.000000      0  normal\n",
              "2       31-Mar-19    12:36:54    0.000000   10.000000      0  normal\n",
              "3       31-Mar-19    12:36:55    0.000000   10.000000      0  normal\n",
              "4       31-Mar-19    12:36:56    0.000000   10.000000      0  normal\n",
              "...           ...         ...         ...         ...    ...     ...\n",
              "595681  27-Apr-19   12:41:16   182.523268  190.867134      0  normal\n",
              "595682  27-Apr-19   12:41:16   183.122818  191.159551      0  normal\n",
              "595683  27-Apr-19   12:41:17   247.820755  261.905963      0  normal\n",
              "595684  27-Apr-19   12:41:17   246.000740  264.091992      0  normal\n",
              "595685  27-Apr-19   12:41:18   180.896829  193.602285      0  normal\n",
              "\n",
              "[595686 rows x 6 columns]"
            ]
          },
          "metadata": {},
          "execution_count": 7
        }
      ]
    },
    {
      "cell_type": "code",
      "metadata": {
        "colab": {
          "base_uri": "https://localhost:8080/"
        },
        "id": "5biTsg4WiJ-b",
        "outputId": "9da07113-9864-44e3-fe20-14f2d03e05cb"
      },
      "source": [
        "print(data.shape)\n",
        "print(\"No of rows\",data.shape[0])\n",
        "print(\"No of columns\",data.shape[1])"
      ],
      "execution_count": null,
      "outputs": [
        {
          "output_type": "stream",
          "name": "stdout",
          "text": [
            "(595686, 6)\n",
            "No of rows 595686\n",
            "No of columns 6\n"
          ]
        }
      ]
    },
    {
      "cell_type": "code",
      "metadata": {
        "id": "HBVHxu0AKQKP",
        "colab": {
          "base_uri": "https://localhost:8080/",
          "height": 419
        },
        "outputId": "805e3a89-867b-4b24-ea47-01be447c88b9"
      },
      "source": [
        "inputs = data.drop(['label','type'],axis = 'columns')\n",
        "target_var = data['label']\n",
        "inputs\n"
      ],
      "execution_count": null,
      "outputs": [
        {
          "output_type": "execute_result",
          "data": {
            "text/html": [
              "<div>\n",
              "<style scoped>\n",
              "    .dataframe tbody tr th:only-of-type {\n",
              "        vertical-align: middle;\n",
              "    }\n",
              "\n",
              "    .dataframe tbody tr th {\n",
              "        vertical-align: top;\n",
              "    }\n",
              "\n",
              "    .dataframe thead th {\n",
              "        text-align: right;\n",
              "    }\n",
              "</style>\n",
              "<table border=\"1\" class=\"dataframe\">\n",
              "  <thead>\n",
              "    <tr style=\"text-align: right;\">\n",
              "      <th></th>\n",
              "      <th>date</th>\n",
              "      <th>time</th>\n",
              "      <th>latitude</th>\n",
              "      <th>longitude</th>\n",
              "    </tr>\n",
              "  </thead>\n",
              "  <tbody>\n",
              "    <tr>\n",
              "      <th>0</th>\n",
              "      <td>31-Mar-19</td>\n",
              "      <td>12:36:52</td>\n",
              "      <td>0.000000</td>\n",
              "      <td>10.000000</td>\n",
              "    </tr>\n",
              "    <tr>\n",
              "      <th>1</th>\n",
              "      <td>31-Mar-19</td>\n",
              "      <td>12:36:53</td>\n",
              "      <td>0.000000</td>\n",
              "      <td>10.000000</td>\n",
              "    </tr>\n",
              "    <tr>\n",
              "      <th>2</th>\n",
              "      <td>31-Mar-19</td>\n",
              "      <td>12:36:54</td>\n",
              "      <td>0.000000</td>\n",
              "      <td>10.000000</td>\n",
              "    </tr>\n",
              "    <tr>\n",
              "      <th>3</th>\n",
              "      <td>31-Mar-19</td>\n",
              "      <td>12:36:55</td>\n",
              "      <td>0.000000</td>\n",
              "      <td>10.000000</td>\n",
              "    </tr>\n",
              "    <tr>\n",
              "      <th>4</th>\n",
              "      <td>31-Mar-19</td>\n",
              "      <td>12:36:56</td>\n",
              "      <td>0.000000</td>\n",
              "      <td>10.000000</td>\n",
              "    </tr>\n",
              "    <tr>\n",
              "      <th>...</th>\n",
              "      <td>...</td>\n",
              "      <td>...</td>\n",
              "      <td>...</td>\n",
              "      <td>...</td>\n",
              "    </tr>\n",
              "    <tr>\n",
              "      <th>595681</th>\n",
              "      <td>27-Apr-19</td>\n",
              "      <td>12:41:16</td>\n",
              "      <td>182.523268</td>\n",
              "      <td>190.867134</td>\n",
              "    </tr>\n",
              "    <tr>\n",
              "      <th>595682</th>\n",
              "      <td>27-Apr-19</td>\n",
              "      <td>12:41:16</td>\n",
              "      <td>183.122818</td>\n",
              "      <td>191.159551</td>\n",
              "    </tr>\n",
              "    <tr>\n",
              "      <th>595683</th>\n",
              "      <td>27-Apr-19</td>\n",
              "      <td>12:41:17</td>\n",
              "      <td>247.820755</td>\n",
              "      <td>261.905963</td>\n",
              "    </tr>\n",
              "    <tr>\n",
              "      <th>595684</th>\n",
              "      <td>27-Apr-19</td>\n",
              "      <td>12:41:17</td>\n",
              "      <td>246.000740</td>\n",
              "      <td>264.091992</td>\n",
              "    </tr>\n",
              "    <tr>\n",
              "      <th>595685</th>\n",
              "      <td>27-Apr-19</td>\n",
              "      <td>12:41:18</td>\n",
              "      <td>180.896829</td>\n",
              "      <td>193.602285</td>\n",
              "    </tr>\n",
              "  </tbody>\n",
              "</table>\n",
              "<p>595686 rows × 4 columns</p>\n",
              "</div>"
            ],
            "text/plain": [
              "             date        time    latitude   longitude\n",
              "0       31-Mar-19    12:36:52    0.000000   10.000000\n",
              "1       31-Mar-19    12:36:53    0.000000   10.000000\n",
              "2       31-Mar-19    12:36:54    0.000000   10.000000\n",
              "3       31-Mar-19    12:36:55    0.000000   10.000000\n",
              "4       31-Mar-19    12:36:56    0.000000   10.000000\n",
              "...           ...         ...         ...         ...\n",
              "595681  27-Apr-19   12:41:16   182.523268  190.867134\n",
              "595682  27-Apr-19   12:41:16   183.122818  191.159551\n",
              "595683  27-Apr-19   12:41:17   247.820755  261.905963\n",
              "595684  27-Apr-19   12:41:17   246.000740  264.091992\n",
              "595685  27-Apr-19   12:41:18   180.896829  193.602285\n",
              "\n",
              "[595686 rows x 4 columns]"
            ]
          },
          "metadata": {},
          "execution_count": 9
        }
      ]
    },
    {
      "cell_type": "code",
      "metadata": {
        "id": "4DdUbX8Vsp1j"
      },
      "source": [
        "le_date = LabelEncoder()\n",
        "le_time = LabelEncoder()\n",
        "le_latitude = LabelEncoder()\n",
        "le_longitude = LabelEncoder()"
      ],
      "execution_count": null,
      "outputs": []
    },
    {
      "cell_type": "code",
      "metadata": {
        "colab": {
          "base_uri": "https://localhost:8080/",
          "height": 204
        },
        "id": "8et7EEU5s5N2",
        "outputId": "08aba429-0044-4c78-913b-3832d80f7647"
      },
      "source": [
        "inputs['date_n'] = le_date.fit_transform(inputs['date'])\n",
        "inputs['time_n'] = le_time.fit_transform(inputs['time'])\n",
        "inputs['latitude_n'] = le_latitude.fit_transform(inputs['latitude'])\n",
        "inputs['longitude_n'] = le_longitude.fit_transform(inputs['longitude'])\n",
        "inputs.head()"
      ],
      "execution_count": null,
      "outputs": [
        {
          "output_type": "execute_result",
          "data": {
            "text/html": [
              "<div>\n",
              "<style scoped>\n",
              "    .dataframe tbody tr th:only-of-type {\n",
              "        vertical-align: middle;\n",
              "    }\n",
              "\n",
              "    .dataframe tbody tr th {\n",
              "        vertical-align: top;\n",
              "    }\n",
              "\n",
              "    .dataframe thead th {\n",
              "        text-align: right;\n",
              "    }\n",
              "</style>\n",
              "<table border=\"1\" class=\"dataframe\">\n",
              "  <thead>\n",
              "    <tr style=\"text-align: right;\">\n",
              "      <th></th>\n",
              "      <th>date</th>\n",
              "      <th>time</th>\n",
              "      <th>latitude</th>\n",
              "      <th>longitude</th>\n",
              "      <th>date_n</th>\n",
              "      <th>time_n</th>\n",
              "      <th>latitude_n</th>\n",
              "      <th>longitude_n</th>\n",
              "    </tr>\n",
              "  </thead>\n",
              "  <tbody>\n",
              "    <tr>\n",
              "      <th>0</th>\n",
              "      <td>31-Mar-19</td>\n",
              "      <td>12:36:52</td>\n",
              "      <td>0.0</td>\n",
              "      <td>10.0</td>\n",
              "      <td>11</td>\n",
              "      <td>84384</td>\n",
              "      <td>0</td>\n",
              "      <td>0</td>\n",
              "    </tr>\n",
              "    <tr>\n",
              "      <th>1</th>\n",
              "      <td>31-Mar-19</td>\n",
              "      <td>12:36:53</td>\n",
              "      <td>0.0</td>\n",
              "      <td>10.0</td>\n",
              "      <td>11</td>\n",
              "      <td>84385</td>\n",
              "      <td>0</td>\n",
              "      <td>0</td>\n",
              "    </tr>\n",
              "    <tr>\n",
              "      <th>2</th>\n",
              "      <td>31-Mar-19</td>\n",
              "      <td>12:36:54</td>\n",
              "      <td>0.0</td>\n",
              "      <td>10.0</td>\n",
              "      <td>11</td>\n",
              "      <td>84386</td>\n",
              "      <td>0</td>\n",
              "      <td>0</td>\n",
              "    </tr>\n",
              "    <tr>\n",
              "      <th>3</th>\n",
              "      <td>31-Mar-19</td>\n",
              "      <td>12:36:55</td>\n",
              "      <td>0.0</td>\n",
              "      <td>10.0</td>\n",
              "      <td>11</td>\n",
              "      <td>84387</td>\n",
              "      <td>0</td>\n",
              "      <td>0</td>\n",
              "    </tr>\n",
              "    <tr>\n",
              "      <th>4</th>\n",
              "      <td>31-Mar-19</td>\n",
              "      <td>12:36:56</td>\n",
              "      <td>0.0</td>\n",
              "      <td>10.0</td>\n",
              "      <td>11</td>\n",
              "      <td>84388</td>\n",
              "      <td>0</td>\n",
              "      <td>0</td>\n",
              "    </tr>\n",
              "  </tbody>\n",
              "</table>\n",
              "</div>"
            ],
            "text/plain": [
              "        date      time  latitude  ...  time_n  latitude_n  longitude_n\n",
              "0  31-Mar-19  12:36:52       0.0  ...   84384           0            0\n",
              "1  31-Mar-19  12:36:53       0.0  ...   84385           0            0\n",
              "2  31-Mar-19  12:36:54       0.0  ...   84386           0            0\n",
              "3  31-Mar-19  12:36:55       0.0  ...   84387           0            0\n",
              "4  31-Mar-19  12:36:56       0.0  ...   84388           0            0\n",
              "\n",
              "[5 rows x 8 columns]"
            ]
          },
          "metadata": {},
          "execution_count": 13
        }
      ]
    },
    {
      "cell_type": "code",
      "metadata": {
        "colab": {
          "base_uri": "https://localhost:8080/",
          "height": 204
        },
        "id": "pmaMHlo0tSFz",
        "outputId": "2dc20827-f399-4829-c1fb-6207e52a33de"
      },
      "source": [
        "new_inputs = inputs.drop(['date','time','latitude','longitude'],axis = 'columns')\n",
        "new_inputs.head()"
      ],
      "execution_count": null,
      "outputs": [
        {
          "output_type": "execute_result",
          "data": {
            "text/html": [
              "<div>\n",
              "<style scoped>\n",
              "    .dataframe tbody tr th:only-of-type {\n",
              "        vertical-align: middle;\n",
              "    }\n",
              "\n",
              "    .dataframe tbody tr th {\n",
              "        vertical-align: top;\n",
              "    }\n",
              "\n",
              "    .dataframe thead th {\n",
              "        text-align: right;\n",
              "    }\n",
              "</style>\n",
              "<table border=\"1\" class=\"dataframe\">\n",
              "  <thead>\n",
              "    <tr style=\"text-align: right;\">\n",
              "      <th></th>\n",
              "      <th>date_n</th>\n",
              "      <th>time_n</th>\n",
              "      <th>latitude_n</th>\n",
              "      <th>longitude_n</th>\n",
              "    </tr>\n",
              "  </thead>\n",
              "  <tbody>\n",
              "    <tr>\n",
              "      <th>0</th>\n",
              "      <td>11</td>\n",
              "      <td>84384</td>\n",
              "      <td>0</td>\n",
              "      <td>0</td>\n",
              "    </tr>\n",
              "    <tr>\n",
              "      <th>1</th>\n",
              "      <td>11</td>\n",
              "      <td>84385</td>\n",
              "      <td>0</td>\n",
              "      <td>0</td>\n",
              "    </tr>\n",
              "    <tr>\n",
              "      <th>2</th>\n",
              "      <td>11</td>\n",
              "      <td>84386</td>\n",
              "      <td>0</td>\n",
              "      <td>0</td>\n",
              "    </tr>\n",
              "    <tr>\n",
              "      <th>3</th>\n",
              "      <td>11</td>\n",
              "      <td>84387</td>\n",
              "      <td>0</td>\n",
              "      <td>0</td>\n",
              "    </tr>\n",
              "    <tr>\n",
              "      <th>4</th>\n",
              "      <td>11</td>\n",
              "      <td>84388</td>\n",
              "      <td>0</td>\n",
              "      <td>0</td>\n",
              "    </tr>\n",
              "  </tbody>\n",
              "</table>\n",
              "</div>"
            ],
            "text/plain": [
              "   date_n  time_n  latitude_n  longitude_n\n",
              "0      11   84384           0            0\n",
              "1      11   84385           0            0\n",
              "2      11   84386           0            0\n",
              "3      11   84387           0            0\n",
              "4      11   84388           0            0"
            ]
          },
          "metadata": {},
          "execution_count": 14
        }
      ]
    },
    {
      "cell_type": "code",
      "metadata": {
        "id": "TB0De_IftfFy"
      },
      "source": [
        "#split dataset in features and target variable\n",
        "feature_cols = ['date_n', 'time_n', 'latitude_n', 'longitude_n']\n",
        "X = new_inputs[feature_cols] # Features\n",
        "y = target_var # Target variable"
      ],
      "execution_count": null,
      "outputs": []
    },
    {
      "cell_type": "code",
      "metadata": {
        "id": "k7VKrjkWtuJ0"
      },
      "source": [
        "# Split dataset into training set and test set\n",
        "X_train, X_test, y_train, y_test = train_test_split(X, y, test_size=0.3, random_state=1) # 70% training and 30% test"
      ],
      "execution_count": null,
      "outputs": []
    },
    {
      "cell_type": "code",
      "metadata": {
        "id": "XaXTUNnat2Ty"
      },
      "source": [
        "# Create Decision Tree classifer object\n",
        "clf = DecisionTreeClassifier()\n",
        "\n",
        "# Train Decision Tree Classifer\n",
        "clf = clf.fit(X_train,y_train)\n",
        "\n",
        "#Predict the response for test dataset\n",
        "y_pred = clf.predict(X_test)"
      ],
      "execution_count": null,
      "outputs": []
    },
    {
      "cell_type": "code",
      "metadata": {
        "colab": {
          "base_uri": "https://localhost:8080/"
        },
        "id": "F3-o14HAt4xZ",
        "outputId": "1f7e6ce5-f6a8-4238-ca78-72a3a0a8bfb6"
      },
      "source": [
        "# Model Accuracy, how often is the classifier correct?\n",
        "print(\"Accuracy:\",metrics.accuracy_score(y_test, y_pred))"
      ],
      "execution_count": null,
      "outputs": [
        {
          "output_type": "stream",
          "name": "stdout",
          "text": [
            "Accuracy: 0.995103689859322\n"
          ]
        }
      ]
    },
    {
      "cell_type": "code",
      "metadata": {
        "colab": {
          "base_uri": "https://localhost:8080/",
          "height": 265
        },
        "id": "DCoACr2l0zw8",
        "outputId": "0fbf861c-c50a-4a85-a446-b772865fcdd1"
      },
      "source": [
        "\n",
        "conf_matrix = confusion_matrix(y_test, y_pred)\n",
        "group_names = ['True Positive','False Positive','False Negative','True Negative']\n",
        "group_counts = [\"{0:0.0f}\".format(value) for value in conf_matrix.flatten()]\n",
        "group_percentages = [\"{0:.2%}\".format(value) for value in conf_matrix.flatten()/np.sum(conf_matrix)]\n",
        "labels = [f\"{v1}\\n{v2}\\n{v3}\" for v1, v2, v3 in zip(group_names,group_counts,group_percentages)]\n",
        "labels = np.asarray(labels).reshape(2,2)\n",
        "ax = sns.heatmap(conf_matrix, annot=labels, fmt=\"\", cmap='Blues')\n",
        "ax.xaxis.set_ticklabels([1,0])\n",
        "ax.yaxis.set_ticklabels([1,0])\n",
        "plt.show()"
      ],
      "execution_count": null,
      "outputs": [
        {
          "output_type": "display_data",
          "data": {
            "image/png": "[encoded data removed]",
            "text/plain": [
              "<Figure size 432x288 with 2 Axes>"
            ]
          },
          "metadata": {
            "needs_background": "light"
          }
        }
      ]
    },
    {
      "cell_type": "code",
      "metadata": {
        "colab": {
          "base_uri": "https://localhost:8080/"
        },
        "id": "ZY3AyITq_1UQ",
        "outputId": "100e14e4-ffd9-4884-be51-d8f2a066887a"
      },
      "source": [
        "\n",
        "\n",
        "print(classification_report(y_test, y_pred))"
      ],
      "execution_count": null,
      "outputs": [
        {
          "output_type": "stream",
          "name": "stdout",
          "text": [
            "              precision    recall  f1-score   support\n",
            "\n",
            "           0       1.00      1.00      1.00    154191\n",
            "           1       0.98      0.98      0.98     24515\n",
            "\n",
            "    accuracy                           1.00    178706\n",
            "   macro avg       0.99      0.99      0.99    178706\n",
            "weighted avg       1.00      1.00      1.00    178706\n",
            "\n"
          ]
        }
      ]
    },
    {
      "cell_type": "code",
      "metadata": {
        "id": "XIHL1jGVhvJm",
        "colab": {
          "base_uri": "https://localhost:8080/"
        },
        "outputId": "b6b0fc5d-3623-4243-8a62-77c3b218986e"
      },
      "source": [
        "#IoT Garage Door\n",
        "data = pd.read_csv('/content/drive/MyDrive/ToN_IoT_dataset/Processed_IoT_dataset/IoT_Garage_Door.csv')"
      ],
      "execution_count": null,
      "outputs": [
        {
          "output_type": "stream",
          "name": "stderr",
          "text": [
            "/usr/local/lib/python3.7/dist-packages/IPython/core/interactiveshell.py:2718: DtypeWarning: Columns (3) have mixed types.Specify dtype option on import or set low_memory=False.\n",
            "  interactivity=interactivity, compiler=compiler, result=result)\n"
          ]
        }
      ]
    },
    {
      "cell_type": "code",
      "metadata": {
        "colab": {
          "base_uri": "https://localhost:8080/",
          "height": 419
        },
        "id": "VtASYYRju-X-",
        "outputId": "2b6552d1-8107-4a36-caca-ff4e96f69df2"
      },
      "source": [
        "data"
      ],
      "execution_count": null,
      "outputs": [
        {
          "output_type": "execute_result",
          "data": {
            "text/html": [
              "<div>\n",
              "<style scoped>\n",
              "    .dataframe tbody tr th:only-of-type {\n",
              "        vertical-align: middle;\n",
              "    }\n",
              "\n",
              "    .dataframe tbody tr th {\n",
              "        vertical-align: top;\n",
              "    }\n",
              "\n",
              "    .dataframe thead th {\n",
              "        text-align: right;\n",
              "    }\n",
              "</style>\n",
              "<table border=\"1\" class=\"dataframe\">\n",
              "  <thead>\n",
              "    <tr style=\"text-align: right;\">\n",
              "      <th></th>\n",
              "      <th>date</th>\n",
              "      <th>time</th>\n",
              "      <th>door_state</th>\n",
              "      <th>sphone_signal</th>\n",
              "      <th>label</th>\n",
              "      <th>type</th>\n",
              "    </tr>\n",
              "  </thead>\n",
              "  <tbody>\n",
              "    <tr>\n",
              "      <th>0</th>\n",
              "      <td>1-Apr-19</td>\n",
              "      <td>20:53:44</td>\n",
              "      <td>open</td>\n",
              "      <td>true</td>\n",
              "      <td>0</td>\n",
              "      <td>normal</td>\n",
              "    </tr>\n",
              "    <tr>\n",
              "      <th>1</th>\n",
              "      <td>1-Apr-19</td>\n",
              "      <td>20:53:49</td>\n",
              "      <td>closed</td>\n",
              "      <td>false</td>\n",
              "      <td>0</td>\n",
              "      <td>normal</td>\n",
              "    </tr>\n",
              "    <tr>\n",
              "      <th>2</th>\n",
              "      <td>1-Apr-19</td>\n",
              "      <td>20:53:49</td>\n",
              "      <td>open</td>\n",
              "      <td>true</td>\n",
              "      <td>0</td>\n",
              "      <td>normal</td>\n",
              "    </tr>\n",
              "    <tr>\n",
              "      <th>3</th>\n",
              "      <td>1-Apr-19</td>\n",
              "      <td>20:53:54</td>\n",
              "      <td>closed</td>\n",
              "      <td>false</td>\n",
              "      <td>0</td>\n",
              "      <td>normal</td>\n",
              "    </tr>\n",
              "    <tr>\n",
              "      <th>4</th>\n",
              "      <td>1-Apr-19</td>\n",
              "      <td>20:53:54</td>\n",
              "      <td>open</td>\n",
              "      <td>true</td>\n",
              "      <td>0</td>\n",
              "      <td>normal</td>\n",
              "    </tr>\n",
              "    <tr>\n",
              "      <th>...</th>\n",
              "      <td>...</td>\n",
              "      <td>...</td>\n",
              "      <td>...</td>\n",
              "      <td>...</td>\n",
              "      <td>...</td>\n",
              "      <td>...</td>\n",
              "    </tr>\n",
              "    <tr>\n",
              "      <th>591441</th>\n",
              "      <td>27-Apr-19</td>\n",
              "      <td>11:03:21</td>\n",
              "      <td>closed</td>\n",
              "      <td>0</td>\n",
              "      <td>0</td>\n",
              "      <td>normal</td>\n",
              "    </tr>\n",
              "    <tr>\n",
              "      <th>591442</th>\n",
              "      <td>27-Apr-19</td>\n",
              "      <td>11:03:21</td>\n",
              "      <td>closed</td>\n",
              "      <td>0</td>\n",
              "      <td>0</td>\n",
              "      <td>normal</td>\n",
              "    </tr>\n",
              "    <tr>\n",
              "      <th>591443</th>\n",
              "      <td>27-Apr-19</td>\n",
              "      <td>11:03:21</td>\n",
              "      <td>closed</td>\n",
              "      <td>0</td>\n",
              "      <td>0</td>\n",
              "      <td>normal</td>\n",
              "    </tr>\n",
              "    <tr>\n",
              "      <th>591444</th>\n",
              "      <td>27-Apr-19</td>\n",
              "      <td>11:03:22</td>\n",
              "      <td>closed</td>\n",
              "      <td>0</td>\n",
              "      <td>0</td>\n",
              "      <td>normal</td>\n",
              "    </tr>\n",
              "    <tr>\n",
              "      <th>591445</th>\n",
              "      <td>27-Apr-19</td>\n",
              "      <td>11:03:24</td>\n",
              "      <td>closed</td>\n",
              "      <td>0</td>\n",
              "      <td>0</td>\n",
              "      <td>normal</td>\n",
              "    </tr>\n",
              "  </tbody>\n",
              "</table>\n",
              "<p>591446 rows × 6 columns</p>\n",
              "</div>"
            ],
            "text/plain": [
              "             date           time door_state sphone_signal  label    type\n",
              "0        1-Apr-19    20:53:44          open        true        0  normal\n",
              "1        1-Apr-19    20:53:49        closed       false        0  normal\n",
              "2        1-Apr-19    20:53:49          open        true        0  normal\n",
              "3        1-Apr-19    20:53:54        closed       false        0  normal\n",
              "4        1-Apr-19    20:53:54          open        true        0  normal\n",
              "...           ...            ...        ...           ...    ...     ...\n",
              "591441  27-Apr-19      11:03:21      closed             0      0  normal\n",
              "591442  27-Apr-19      11:03:21      closed             0      0  normal\n",
              "591443  27-Apr-19      11:03:21      closed             0      0  normal\n",
              "591444  27-Apr-19      11:03:22      closed             0      0  normal\n",
              "591445  27-Apr-19      11:03:24      closed             0      0  normal\n",
              "\n",
              "[591446 rows x 6 columns]"
            ]
          },
          "metadata": {},
          "execution_count": 23
        }
      ]
    },
    {
      "cell_type": "code",
      "metadata": {
        "colab": {
          "base_uri": "https://localhost:8080/"
        },
        "id": "y7pvqe9qiW2Z",
        "outputId": "a3533113-3281-4f22-8565-dd6be14de4b2"
      },
      "source": [
        "print(data.shape)\n",
        "print(\"No of rows\",data.shape[0])\n",
        "print(\"No of columns\",data.shape[1])"
      ],
      "execution_count": null,
      "outputs": [
        {
          "output_type": "stream",
          "name": "stdout",
          "text": [
            "(591446, 6)\n",
            "No of rows 591446\n",
            "No of columns 6\n"
          ]
        }
      ]
    },
    {
      "cell_type": "code",
      "metadata": {
        "id": "7evAo-JQWG6O",
        "colab": {
          "base_uri": "https://localhost:8080/",
          "height": 419
        },
        "outputId": "c0b2fc6d-b7fc-45a5-8428-ac481034a545"
      },
      "source": [
        "inputs = data.drop(['label','type'],axis = 'columns')\n",
        "target_var = data['label']\n",
        "inputs"
      ],
      "execution_count": null,
      "outputs": [
        {
          "output_type": "execute_result",
          "data": {
            "text/html": [
              "<div>\n",
              "<style scoped>\n",
              "    .dataframe tbody tr th:only-of-type {\n",
              "        vertical-align: middle;\n",
              "    }\n",
              "\n",
              "    .dataframe tbody tr th {\n",
              "        vertical-align: top;\n",
              "    }\n",
              "\n",
              "    .dataframe thead th {\n",
              "        text-align: right;\n",
              "    }\n",
              "</style>\n",
              "<table border=\"1\" class=\"dataframe\">\n",
              "  <thead>\n",
              "    <tr style=\"text-align: right;\">\n",
              "      <th></th>\n",
              "      <th>date</th>\n",
              "      <th>time</th>\n",
              "      <th>door_state</th>\n",
              "      <th>sphone_signal</th>\n",
              "    </tr>\n",
              "  </thead>\n",
              "  <tbody>\n",
              "    <tr>\n",
              "      <th>0</th>\n",
              "      <td>1-Apr-19</td>\n",
              "      <td>20:53:44</td>\n",
              "      <td>open</td>\n",
              "      <td>true</td>\n",
              "    </tr>\n",
              "    <tr>\n",
              "      <th>1</th>\n",
              "      <td>1-Apr-19</td>\n",
              "      <td>20:53:49</td>\n",
              "      <td>closed</td>\n",
              "      <td>false</td>\n",
              "    </tr>\n",
              "    <tr>\n",
              "      <th>2</th>\n",
              "      <td>1-Apr-19</td>\n",
              "      <td>20:53:49</td>\n",
              "      <td>open</td>\n",
              "      <td>true</td>\n",
              "    </tr>\n",
              "    <tr>\n",
              "      <th>3</th>\n",
              "      <td>1-Apr-19</td>\n",
              "      <td>20:53:54</td>\n",
              "      <td>closed</td>\n",
              "      <td>false</td>\n",
              "    </tr>\n",
              "    <tr>\n",
              "      <th>4</th>\n",
              "      <td>1-Apr-19</td>\n",
              "      <td>20:53:54</td>\n",
              "      <td>open</td>\n",
              "      <td>true</td>\n",
              "    </tr>\n",
              "    <tr>\n",
              "      <th>...</th>\n",
              "      <td>...</td>\n",
              "      <td>...</td>\n",
              "      <td>...</td>\n",
              "      <td>...</td>\n",
              "    </tr>\n",
              "    <tr>\n",
              "      <th>591441</th>\n",
              "      <td>27-Apr-19</td>\n",
              "      <td>11:03:21</td>\n",
              "      <td>closed</td>\n",
              "      <td>0</td>\n",
              "    </tr>\n",
              "    <tr>\n",
              "      <th>591442</th>\n",
              "      <td>27-Apr-19</td>\n",
              "      <td>11:03:21</td>\n",
              "      <td>closed</td>\n",
              "      <td>0</td>\n",
              "    </tr>\n",
              "    <tr>\n",
              "      <th>591443</th>\n",
              "      <td>27-Apr-19</td>\n",
              "      <td>11:03:21</td>\n",
              "      <td>closed</td>\n",
              "      <td>0</td>\n",
              "    </tr>\n",
              "    <tr>\n",
              "      <th>591444</th>\n",
              "      <td>27-Apr-19</td>\n",
              "      <td>11:03:22</td>\n",
              "      <td>closed</td>\n",
              "      <td>0</td>\n",
              "    </tr>\n",
              "    <tr>\n",
              "      <th>591445</th>\n",
              "      <td>27-Apr-19</td>\n",
              "      <td>11:03:24</td>\n",
              "      <td>closed</td>\n",
              "      <td>0</td>\n",
              "    </tr>\n",
              "  </tbody>\n",
              "</table>\n",
              "<p>591446 rows × 4 columns</p>\n",
              "</div>"
            ],
            "text/plain": [
              "             date           time door_state sphone_signal\n",
              "0        1-Apr-19    20:53:44          open        true  \n",
              "1        1-Apr-19    20:53:49        closed       false  \n",
              "2        1-Apr-19    20:53:49          open        true  \n",
              "3        1-Apr-19    20:53:54        closed       false  \n",
              "4        1-Apr-19    20:53:54          open        true  \n",
              "...           ...            ...        ...           ...\n",
              "591441  27-Apr-19      11:03:21      closed             0\n",
              "591442  27-Apr-19      11:03:21      closed             0\n",
              "591443  27-Apr-19      11:03:21      closed             0\n",
              "591444  27-Apr-19      11:03:22      closed             0\n",
              "591445  27-Apr-19      11:03:24      closed             0\n",
              "\n",
              "[591446 rows x 4 columns]"
            ]
          },
          "metadata": {},
          "execution_count": 25
        }
      ]
    },
    {
      "cell_type": "code",
      "metadata": {
        "id": "eMKpXpty1jgU"
      },
      "source": [
        "le_date = LabelEncoder()\n",
        "le_time = LabelEncoder()\n",
        "le_door_state = LabelEncoder()\n",
        "le_sphone_signal = LabelEncoder()"
      ],
      "execution_count": null,
      "outputs": []
    },
    {
      "cell_type": "code",
      "metadata": {
        "colab": {
          "base_uri": "https://localhost:8080/",
          "height": 204
        },
        "id": "syDJPOCq1uy7",
        "outputId": "2819f030-76d6-4c08-ddc2-74b93c78d4f9"
      },
      "source": [
        "inputs['date_n'] = le_date.fit_transform(inputs['date'].astype('str'))\n",
        "inputs['time_n'] = le_time.fit_transform(inputs['time'].astype('str'))\n",
        "inputs['door_state_n'] = le_door_state.fit_transform(inputs['door_state'].astype('str'))\n",
        "inputs['sphone_signal_n'] = le_sphone_signal.fit_transform(inputs['sphone_signal'].astype('str'))\n",
        "inputs.head()"
      ],
      "execution_count": null,
      "outputs": [
        {
          "output_type": "execute_result",
          "data": {
            "text/html": [
              "<div>\n",
              "<style scoped>\n",
              "    .dataframe tbody tr th:only-of-type {\n",
              "        vertical-align: middle;\n",
              "    }\n",
              "\n",
              "    .dataframe tbody tr th {\n",
              "        vertical-align: top;\n",
              "    }\n",
              "\n",
              "    .dataframe thead th {\n",
              "        text-align: right;\n",
              "    }\n",
              "</style>\n",
              "<table border=\"1\" class=\"dataframe\">\n",
              "  <thead>\n",
              "    <tr style=\"text-align: right;\">\n",
              "      <th></th>\n",
              "      <th>date</th>\n",
              "      <th>time</th>\n",
              "      <th>door_state</th>\n",
              "      <th>sphone_signal</th>\n",
              "      <th>date_n</th>\n",
              "      <th>time_n</th>\n",
              "      <th>door_state_n</th>\n",
              "      <th>sphone_signal_n</th>\n",
              "    </tr>\n",
              "  </thead>\n",
              "  <tbody>\n",
              "    <tr>\n",
              "      <th>0</th>\n",
              "      <td>1-Apr-19</td>\n",
              "      <td>20:53:44</td>\n",
              "      <td>open</td>\n",
              "      <td>true</td>\n",
              "      <td>0</td>\n",
              "      <td>28286</td>\n",
              "      <td>2</td>\n",
              "      <td>6</td>\n",
              "    </tr>\n",
              "    <tr>\n",
              "      <th>1</th>\n",
              "      <td>1-Apr-19</td>\n",
              "      <td>20:53:49</td>\n",
              "      <td>closed</td>\n",
              "      <td>false</td>\n",
              "      <td>0</td>\n",
              "      <td>28287</td>\n",
              "      <td>0</td>\n",
              "      <td>4</td>\n",
              "    </tr>\n",
              "    <tr>\n",
              "      <th>2</th>\n",
              "      <td>1-Apr-19</td>\n",
              "      <td>20:53:49</td>\n",
              "      <td>open</td>\n",
              "      <td>true</td>\n",
              "      <td>0</td>\n",
              "      <td>28287</td>\n",
              "      <td>2</td>\n",
              "      <td>6</td>\n",
              "    </tr>\n",
              "    <tr>\n",
              "      <th>3</th>\n",
              "      <td>1-Apr-19</td>\n",
              "      <td>20:53:54</td>\n",
              "      <td>closed</td>\n",
              "      <td>false</td>\n",
              "      <td>0</td>\n",
              "      <td>28288</td>\n",
              "      <td>0</td>\n",
              "      <td>4</td>\n",
              "    </tr>\n",
              "    <tr>\n",
              "      <th>4</th>\n",
              "      <td>1-Apr-19</td>\n",
              "      <td>20:53:54</td>\n",
              "      <td>open</td>\n",
              "      <td>true</td>\n",
              "      <td>0</td>\n",
              "      <td>28288</td>\n",
              "      <td>2</td>\n",
              "      <td>6</td>\n",
              "    </tr>\n",
              "  </tbody>\n",
              "</table>\n",
              "</div>"
            ],
            "text/plain": [
              "       date           time door_state  ... time_n  door_state_n  sphone_signal_n\n",
              "0  1-Apr-19    20:53:44          open  ...  28286             2                6\n",
              "1  1-Apr-19    20:53:49        closed  ...  28287             0                4\n",
              "2  1-Apr-19    20:53:49          open  ...  28287             2                6\n",
              "3  1-Apr-19    20:53:54        closed  ...  28288             0                4\n",
              "4  1-Apr-19    20:53:54          open  ...  28288             2                6\n",
              "\n",
              "[5 rows x 8 columns]"
            ]
          },
          "metadata": {},
          "execution_count": 27
        }
      ]
    },
    {
      "cell_type": "code",
      "metadata": {
        "colab": {
          "base_uri": "https://localhost:8080/",
          "height": 204
        },
        "id": "VIYtCUogmsGB",
        "outputId": "d3cb2abd-684d-46ef-b240-0cab797cd83f"
      },
      "source": [
        "new_inputs = inputs.drop(['date','time','door_state','sphone_signal'],axis = 'columns')\n",
        "new_inputs.head()"
      ],
      "execution_count": null,
      "outputs": [
        {
          "output_type": "execute_result",
          "data": {
            "text/html": [
              "<div>\n",
              "<style scoped>\n",
              "    .dataframe tbody tr th:only-of-type {\n",
              "        vertical-align: middle;\n",
              "    }\n",
              "\n",
              "    .dataframe tbody tr th {\n",
              "        vertical-align: top;\n",
              "    }\n",
              "\n",
              "    .dataframe thead th {\n",
              "        text-align: right;\n",
              "    }\n",
              "</style>\n",
              "<table border=\"1\" class=\"dataframe\">\n",
              "  <thead>\n",
              "    <tr style=\"text-align: right;\">\n",
              "      <th></th>\n",
              "      <th>date_n</th>\n",
              "      <th>time_n</th>\n",
              "      <th>door_state_n</th>\n",
              "      <th>sphone_signal_n</th>\n",
              "    </tr>\n",
              "  </thead>\n",
              "  <tbody>\n",
              "    <tr>\n",
              "      <th>0</th>\n",
              "      <td>0</td>\n",
              "      <td>28286</td>\n",
              "      <td>2</td>\n",
              "      <td>6</td>\n",
              "    </tr>\n",
              "    <tr>\n",
              "      <th>1</th>\n",
              "      <td>0</td>\n",
              "      <td>28287</td>\n",
              "      <td>0</td>\n",
              "      <td>4</td>\n",
              "    </tr>\n",
              "    <tr>\n",
              "      <th>2</th>\n",
              "      <td>0</td>\n",
              "      <td>28287</td>\n",
              "      <td>2</td>\n",
              "      <td>6</td>\n",
              "    </tr>\n",
              "    <tr>\n",
              "      <th>3</th>\n",
              "      <td>0</td>\n",
              "      <td>28288</td>\n",
              "      <td>0</td>\n",
              "      <td>4</td>\n",
              "    </tr>\n",
              "    <tr>\n",
              "      <th>4</th>\n",
              "      <td>0</td>\n",
              "      <td>28288</td>\n",
              "      <td>2</td>\n",
              "      <td>6</td>\n",
              "    </tr>\n",
              "  </tbody>\n",
              "</table>\n",
              "</div>"
            ],
            "text/plain": [
              "   date_n  time_n  door_state_n  sphone_signal_n\n",
              "0       0   28286             2                6\n",
              "1       0   28287             0                4\n",
              "2       0   28287             2                6\n",
              "3       0   28288             0                4\n",
              "4       0   28288             2                6"
            ]
          },
          "metadata": {},
          "execution_count": 28
        }
      ]
    },
    {
      "cell_type": "code",
      "metadata": {
        "id": "XwaTQgO5oKmW"
      },
      "source": [
        "#split dataset in features and target variable\n",
        "feature_cols = ['date_n', 'time_n', 'door_state_n', 'sphone_signal_n']\n",
        "X = new_inputs[feature_cols] # Features\n",
        "y = target_var # Target variable"
      ],
      "execution_count": null,
      "outputs": []
    },
    {
      "cell_type": "code",
      "metadata": {
        "id": "vHC0GkJdoZo_"
      },
      "source": [
        "# Split dataset into training set and test set\n",
        "X_train, X_test, y_train, y_test = train_test_split(X, y, test_size=0.3, random_state=1) # 70% training and 30% test"
      ],
      "execution_count": null,
      "outputs": []
    },
    {
      "cell_type": "code",
      "metadata": {
        "id": "F2im1j0xosCF"
      },
      "source": [
        "# Create Decision Tree classifer object\n",
        "clf = DecisionTreeClassifier()\n",
        "\n",
        "# Train Decision Tree Classifer\n",
        "clf = clf.fit(X_train,y_train)\n",
        "\n",
        "#Predict the response for test dataset\n",
        "y_pred = clf.predict(X_test)"
      ],
      "execution_count": null,
      "outputs": []
    },
    {
      "cell_type": "code",
      "metadata": {
        "colab": {
          "base_uri": "https://localhost:8080/"
        },
        "id": "KalRST2GozM7",
        "outputId": "a3a7bcd5-a91b-4e22-f24b-91b18c62b871"
      },
      "source": [
        "# Model Accuracy, how often is the classifier correct?\n",
        "print(\"Accuracy:\",metrics.accuracy_score(y_test, y_pred))"
      ],
      "execution_count": null,
      "outputs": [
        {
          "output_type": "stream",
          "name": "stdout",
          "text": [
            "Accuracy: 0.9958632505607719\n"
          ]
        }
      ]
    },
    {
      "cell_type": "code",
      "metadata": {
        "colab": {
          "base_uri": "https://localhost:8080/",
          "height": 265
        },
        "id": "QDmNGFByo5ao",
        "outputId": "e6053b4e-dcf8-4558-9737-815d0b1711b6"
      },
      "source": [
        "conf_matrix = confusion_matrix(y_test, y_pred)\n",
        "group_names = ['True Positive','False Positive','False Negative','True Negative']\n",
        "group_counts = [\"{0:0.0f}\".format(value) for value in conf_matrix.flatten()]\n",
        "group_percentages = [\"{0:.2%}\".format(value) for value in conf_matrix.flatten()/np.sum(conf_matrix)]\n",
        "labels = [f\"{v1}\\n{v2}\\n{v3}\" for v1, v2, v3 in zip(group_names,group_counts,group_percentages)]\n",
        "labels = np.asarray(labels).reshape(2,2)\n",
        "ax = sns.heatmap(conf_matrix, annot=labels, fmt=\"\", cmap='Blues')\n",
        "ax.xaxis.set_ticklabels([1,0])\n",
        "ax.yaxis.set_ticklabels([1,0])\n",
        "plt.show()"
      ],
      "execution_count": null,
      "outputs": [
        {
          "output_type": "display_data",
          "data": {
            "image/png": "[encoded data removed]",
            "text/plain": [
              "<Figure size 432x288 with 2 Axes>"
            ]
          },
          "metadata": {
            "needs_background": "light"
          }
        }
      ]
    },
    {
      "cell_type": "code",
      "metadata": {
        "colab": {
          "base_uri": "https://localhost:8080/"
        },
        "id": "WStEBdMfpApm",
        "outputId": "e7b48638-edcc-48d2-f511-853de85a2266"
      },
      "source": [
        "print(classification_report(y_test, y_pred))"
      ],
      "execution_count": null,
      "outputs": [
        {
          "output_type": "stream",
          "name": "stdout",
          "text": [
            "              precision    recall  f1-score   support\n",
            "\n",
            "           0       1.00      1.00      1.00    154691\n",
            "           1       0.98      0.98      0.98     22743\n",
            "\n",
            "    accuracy                           1.00    177434\n",
            "   macro avg       0.99      0.99      0.99    177434\n",
            "weighted avg       1.00      1.00      1.00    177434\n",
            "\n"
          ]
        }
      ]
    },
    {
      "cell_type": "code",
      "metadata": {
        "id": "zGGpDYhnvcsW"
      },
      "source": [
        "#IoT Modbus\n",
        "data = pd.read_csv('/content/drive/MyDrive/ToN_IoT_dataset/Processed_IoT_dataset/IoT_Modbus.csv')"
      ],
      "execution_count": null,
      "outputs": []
    },
    {
      "cell_type": "code",
      "metadata": {
        "colab": {
          "base_uri": "https://localhost:8080/",
          "height": 419
        },
        "id": "ewIPSWyMvxly",
        "outputId": "371f5cdd-21f1-4d37-efa6-5fd96d8d28c8"
      },
      "source": [
        "data"
      ],
      "execution_count": null,
      "outputs": [
        {
          "output_type": "execute_result",
          "data": {
            "text/html": [
              "<div>\n",
              "<style scoped>\n",
              "    .dataframe tbody tr th:only-of-type {\n",
              "        vertical-align: middle;\n",
              "    }\n",
              "\n",
              "    .dataframe tbody tr th {\n",
              "        vertical-align: top;\n",
              "    }\n",
              "\n",
              "    .dataframe thead th {\n",
              "        text-align: right;\n",
              "    }\n",
              "</style>\n",
              "<table border=\"1\" class=\"dataframe\">\n",
              "  <thead>\n",
              "    <tr style=\"text-align: right;\">\n",
              "      <th></th>\n",
              "      <th>date</th>\n",
              "      <th>time</th>\n",
              "      <th>FC1_Read_Input_Register</th>\n",
              "      <th>FC2_Read_Discrete_Value</th>\n",
              "      <th>FC3_Read_Holding_Register</th>\n",
              "      <th>FC4_Read_Coil</th>\n",
              "      <th>label</th>\n",
              "      <th>type</th>\n",
              "    </tr>\n",
              "  </thead>\n",
              "  <tbody>\n",
              "    <tr>\n",
              "      <th>0</th>\n",
              "      <td>31-Mar-19</td>\n",
              "      <td>12:36:55</td>\n",
              "      <td>53287</td>\n",
              "      <td>1463</td>\n",
              "      <td>33518</td>\n",
              "      <td>23014</td>\n",
              "      <td>0</td>\n",
              "      <td>normal</td>\n",
              "    </tr>\n",
              "    <tr>\n",
              "      <th>1</th>\n",
              "      <td>31-Mar-19</td>\n",
              "      <td>12:36:58</td>\n",
              "      <td>41029</td>\n",
              "      <td>55891</td>\n",
              "      <td>26004</td>\n",
              "      <td>50645</td>\n",
              "      <td>0</td>\n",
              "      <td>normal</td>\n",
              "    </tr>\n",
              "    <tr>\n",
              "      <th>2</th>\n",
              "      <td>31-Mar-19</td>\n",
              "      <td>12:36:58</td>\n",
              "      <td>41029</td>\n",
              "      <td>55891</td>\n",
              "      <td>26004</td>\n",
              "      <td>50645</td>\n",
              "      <td>0</td>\n",
              "      <td>normal</td>\n",
              "    </tr>\n",
              "    <tr>\n",
              "      <th>3</th>\n",
              "      <td>31-Mar-19</td>\n",
              "      <td>12:37:00</td>\n",
              "      <td>64661</td>\n",
              "      <td>40232</td>\n",
              "      <td>33460</td>\n",
              "      <td>44046</td>\n",
              "      <td>0</td>\n",
              "      <td>normal</td>\n",
              "    </tr>\n",
              "    <tr>\n",
              "      <th>4</th>\n",
              "      <td>31-Mar-19</td>\n",
              "      <td>12:37:01</td>\n",
              "      <td>64661</td>\n",
              "      <td>40232</td>\n",
              "      <td>33460</td>\n",
              "      <td>44046</td>\n",
              "      <td>0</td>\n",
              "      <td>normal</td>\n",
              "    </tr>\n",
              "    <tr>\n",
              "      <th>...</th>\n",
              "      <td>...</td>\n",
              "      <td>...</td>\n",
              "      <td>...</td>\n",
              "      <td>...</td>\n",
              "      <td>...</td>\n",
              "      <td>...</td>\n",
              "      <td>...</td>\n",
              "      <td>...</td>\n",
              "    </tr>\n",
              "    <tr>\n",
              "      <th>287189</th>\n",
              "      <td>29-Apr-19</td>\n",
              "      <td>23:59:10</td>\n",
              "      <td>22798</td>\n",
              "      <td>40857</td>\n",
              "      <td>14335</td>\n",
              "      <td>58610</td>\n",
              "      <td>0</td>\n",
              "      <td>normal</td>\n",
              "    </tr>\n",
              "    <tr>\n",
              "      <th>287190</th>\n",
              "      <td>29-Apr-19</td>\n",
              "      <td>23:59:22</td>\n",
              "      <td>15838</td>\n",
              "      <td>54368</td>\n",
              "      <td>63613</td>\n",
              "      <td>45660</td>\n",
              "      <td>0</td>\n",
              "      <td>normal</td>\n",
              "    </tr>\n",
              "    <tr>\n",
              "      <th>287191</th>\n",
              "      <td>29-Apr-19</td>\n",
              "      <td>23:59:26</td>\n",
              "      <td>28674</td>\n",
              "      <td>60221</td>\n",
              "      <td>3792</td>\n",
              "      <td>17705</td>\n",
              "      <td>0</td>\n",
              "      <td>normal</td>\n",
              "    </tr>\n",
              "    <tr>\n",
              "      <th>287192</th>\n",
              "      <td>29-Apr-19</td>\n",
              "      <td>23:59:32</td>\n",
              "      <td>28674</td>\n",
              "      <td>60221</td>\n",
              "      <td>3792</td>\n",
              "      <td>17705</td>\n",
              "      <td>0</td>\n",
              "      <td>normal</td>\n",
              "    </tr>\n",
              "    <tr>\n",
              "      <th>287193</th>\n",
              "      <td>29-Apr-19</td>\n",
              "      <td>23:59:36</td>\n",
              "      <td>36119</td>\n",
              "      <td>40867</td>\n",
              "      <td>57092</td>\n",
              "      <td>39921</td>\n",
              "      <td>0</td>\n",
              "      <td>normal</td>\n",
              "    </tr>\n",
              "  </tbody>\n",
              "</table>\n",
              "<p>287194 rows × 8 columns</p>\n",
              "</div>"
            ],
            "text/plain": [
              "             date        time  ...  label    type\n",
              "0       31-Mar-19   12:36:55   ...      0  normal\n",
              "1       31-Mar-19   12:36:58   ...      0  normal\n",
              "2       31-Mar-19    12:36:58  ...      0  normal\n",
              "3       31-Mar-19    12:37:00  ...      0  normal\n",
              "4       31-Mar-19    12:37:01  ...      0  normal\n",
              "...           ...         ...  ...    ...     ...\n",
              "287189  29-Apr-19    23:59:10  ...      0  normal\n",
              "287190  29-Apr-19    23:59:22  ...      0  normal\n",
              "287191  29-Apr-19    23:59:26  ...      0  normal\n",
              "287192  29-Apr-19    23:59:32  ...      0  normal\n",
              "287193  29-Apr-19    23:59:36  ...      0  normal\n",
              "\n",
              "[287194 rows x 8 columns]"
            ]
          },
          "metadata": {},
          "execution_count": 36
        }
      ]
    },
    {
      "cell_type": "code",
      "metadata": {
        "colab": {
          "base_uri": "https://localhost:8080/"
        },
        "id": "FtM8HE2Iic7p",
        "outputId": "f1cbd5c3-4964-4086-b717-42beaa7a44d6"
      },
      "source": [
        "print(data.shape)\n",
        "print(\"No of rows\",data.shape[0])\n",
        "print(\"No of columns\",data.shape[1])"
      ],
      "execution_count": null,
      "outputs": [
        {
          "output_type": "stream",
          "name": "stdout",
          "text": [
            "(287194, 8)\n",
            "No of rows 287194\n",
            "No of columns 8\n"
          ]
        }
      ]
    },
    {
      "cell_type": "code",
      "metadata": {
        "colab": {
          "base_uri": "https://localhost:8080/",
          "height": 419
        },
        "id": "EG7ovUAL6Rxu",
        "outputId": "e468416b-0141-47c9-aa61-18352accf28e"
      },
      "source": [
        "inputs = data.drop(['label','type'],axis = 'columns')\n",
        "target_var = data['label']\n",
        "inputs"
      ],
      "execution_count": null,
      "outputs": [
        {
          "output_type": "execute_result",
          "data": {
            "text/html": [
              "<div>\n",
              "<style scoped>\n",
              "    .dataframe tbody tr th:only-of-type {\n",
              "        vertical-align: middle;\n",
              "    }\n",
              "\n",
              "    .dataframe tbody tr th {\n",
              "        vertical-align: top;\n",
              "    }\n",
              "\n",
              "    .dataframe thead th {\n",
              "        text-align: right;\n",
              "    }\n",
              "</style>\n",
              "<table border=\"1\" class=\"dataframe\">\n",
              "  <thead>\n",
              "    <tr style=\"text-align: right;\">\n",
              "      <th></th>\n",
              "      <th>date</th>\n",
              "      <th>time</th>\n",
              "      <th>FC1_Read_Input_Register</th>\n",
              "      <th>FC2_Read_Discrete_Value</th>\n",
              "      <th>FC3_Read_Holding_Register</th>\n",
              "      <th>FC4_Read_Coil</th>\n",
              "    </tr>\n",
              "  </thead>\n",
              "  <tbody>\n",
              "    <tr>\n",
              "      <th>0</th>\n",
              "      <td>31-Mar-19</td>\n",
              "      <td>12:36:55</td>\n",
              "      <td>53287</td>\n",
              "      <td>1463</td>\n",
              "      <td>33518</td>\n",
              "      <td>23014</td>\n",
              "    </tr>\n",
              "    <tr>\n",
              "      <th>1</th>\n",
              "      <td>31-Mar-19</td>\n",
              "      <td>12:36:58</td>\n",
              "      <td>41029</td>\n",
              "      <td>55891</td>\n",
              "      <td>26004</td>\n",
              "      <td>50645</td>\n",
              "    </tr>\n",
              "    <tr>\n",
              "      <th>2</th>\n",
              "      <td>31-Mar-19</td>\n",
              "      <td>12:36:58</td>\n",
              "      <td>41029</td>\n",
              "      <td>55891</td>\n",
              "      <td>26004</td>\n",
              "      <td>50645</td>\n",
              "    </tr>\n",
              "    <tr>\n",
              "      <th>3</th>\n",
              "      <td>31-Mar-19</td>\n",
              "      <td>12:37:00</td>\n",
              "      <td>64661</td>\n",
              "      <td>40232</td>\n",
              "      <td>33460</td>\n",
              "      <td>44046</td>\n",
              "    </tr>\n",
              "    <tr>\n",
              "      <th>4</th>\n",
              "      <td>31-Mar-19</td>\n",
              "      <td>12:37:01</td>\n",
              "      <td>64661</td>\n",
              "      <td>40232</td>\n",
              "      <td>33460</td>\n",
              "      <td>44046</td>\n",
              "    </tr>\n",
              "    <tr>\n",
              "      <th>...</th>\n",
              "      <td>...</td>\n",
              "      <td>...</td>\n",
              "      <td>...</td>\n",
              "      <td>...</td>\n",
              "      <td>...</td>\n",
              "      <td>...</td>\n",
              "    </tr>\n",
              "    <tr>\n",
              "      <th>287189</th>\n",
              "      <td>29-Apr-19</td>\n",
              "      <td>23:59:10</td>\n",
              "      <td>22798</td>\n",
              "      <td>40857</td>\n",
              "      <td>14335</td>\n",
              "      <td>58610</td>\n",
              "    </tr>\n",
              "    <tr>\n",
              "      <th>287190</th>\n",
              "      <td>29-Apr-19</td>\n",
              "      <td>23:59:22</td>\n",
              "      <td>15838</td>\n",
              "      <td>54368</td>\n",
              "      <td>63613</td>\n",
              "      <td>45660</td>\n",
              "    </tr>\n",
              "    <tr>\n",
              "      <th>287191</th>\n",
              "      <td>29-Apr-19</td>\n",
              "      <td>23:59:26</td>\n",
              "      <td>28674</td>\n",
              "      <td>60221</td>\n",
              "      <td>3792</td>\n",
              "      <td>17705</td>\n",
              "    </tr>\n",
              "    <tr>\n",
              "      <th>287192</th>\n",
              "      <td>29-Apr-19</td>\n",
              "      <td>23:59:32</td>\n",
              "      <td>28674</td>\n",
              "      <td>60221</td>\n",
              "      <td>3792</td>\n",
              "      <td>17705</td>\n",
              "    </tr>\n",
              "    <tr>\n",
              "      <th>287193</th>\n",
              "      <td>29-Apr-19</td>\n",
              "      <td>23:59:36</td>\n",
              "      <td>36119</td>\n",
              "      <td>40867</td>\n",
              "      <td>57092</td>\n",
              "      <td>39921</td>\n",
              "    </tr>\n",
              "  </tbody>\n",
              "</table>\n",
              "<p>287194 rows × 6 columns</p>\n",
              "</div>"
            ],
            "text/plain": [
              "             date        time  ...  FC3_Read_Holding_Register  FC4_Read_Coil\n",
              "0       31-Mar-19   12:36:55   ...                      33518          23014\n",
              "1       31-Mar-19   12:36:58   ...                      26004          50645\n",
              "2       31-Mar-19    12:36:58  ...                      26004          50645\n",
              "3       31-Mar-19    12:37:00  ...                      33460          44046\n",
              "4       31-Mar-19    12:37:01  ...                      33460          44046\n",
              "...           ...         ...  ...                        ...            ...\n",
              "287189  29-Apr-19    23:59:10  ...                      14335          58610\n",
              "287190  29-Apr-19    23:59:22  ...                      63613          45660\n",
              "287191  29-Apr-19    23:59:26  ...                       3792          17705\n",
              "287192  29-Apr-19    23:59:32  ...                       3792          17705\n",
              "287193  29-Apr-19    23:59:36  ...                      57092          39921\n",
              "\n",
              "[287194 rows x 6 columns]"
            ]
          },
          "metadata": {},
          "execution_count": 38
        }
      ]
    },
    {
      "cell_type": "code",
      "metadata": {
        "id": "r97wbK1S6fET"
      },
      "source": [
        "le_date = LabelEncoder()\n",
        "le_time = LabelEncoder()\n",
        "le_FC1_Read_Input_Register = LabelEncoder()\n",
        "le_FC2_Read_Discrete_Value = LabelEncoder()\n",
        "le_FC3_Read_Holding_Register = LabelEncoder()\n",
        "le_FC4_Read_Coil = LabelEncoder()"
      ],
      "execution_count": null,
      "outputs": []
    },
    {
      "cell_type": "code",
      "metadata": {
        "colab": {
          "base_uri": "https://localhost:8080/",
          "height": 394
        },
        "id": "c_Awgwje60eK",
        "outputId": "ff625fef-4ac4-4144-f4eb-4c5aadbf4da1"
      },
      "source": [
        "inputs['date_n'] = le_date.fit_transform(inputs['date'])\n",
        "inputs['time_n'] = le_time.fit_transform(inputs['time'])\n",
        "inputs['FC1_Read_Input_Register_n'] = le_FC1_Read_Input_Register.fit_transform(inputs['FC1_Read_Input_Register'])\n",
        "inputs['FC2_Read_Discrete_Value_n'] = le_FC2_Read_Discrete_Value.fit_transform(inputs['FC2_Read_Discrete_Value'])\n",
        "inputs['FC3_Read_Holding_Register_n'] = le_FC3_Read_Holding_Register.fit_transform(inputs['FC3_Read_Holding_Register'])\n",
        "inputs['FC4_Read_Coil_n'] = le_FC4_Read_Coil.fit_transform(inputs['FC4_Read_Coil'])\n",
        "inputs.head()"
      ],
      "execution_count": null,
      "outputs": [
        {
          "output_type": "execute_result",
          "data": {
            "text/html": [
              "<div>\n",
              "<style scoped>\n",
              "    .dataframe tbody tr th:only-of-type {\n",
              "        vertical-align: middle;\n",
              "    }\n",
              "\n",
              "    .dataframe tbody tr th {\n",
              "        vertical-align: top;\n",
              "    }\n",
              "\n",
              "    .dataframe thead th {\n",
              "        text-align: right;\n",
              "    }\n",
              "</style>\n",
              "<table border=\"1\" class=\"dataframe\">\n",
              "  <thead>\n",
              "    <tr style=\"text-align: right;\">\n",
              "      <th></th>\n",
              "      <th>date</th>\n",
              "      <th>time</th>\n",
              "      <th>FC1_Read_Input_Register</th>\n",
              "      <th>FC2_Read_Discrete_Value</th>\n",
              "      <th>FC3_Read_Holding_Register</th>\n",
              "      <th>FC4_Read_Coil</th>\n",
              "      <th>date_n</th>\n",
              "      <th>time_n</th>\n",
              "      <th>FC1_Read_Input_Register_n</th>\n",
              "      <th>FC2_Read_Discrete_Value_n</th>\n",
              "      <th>FC3_Read_Holding_Register_n</th>\n",
              "      <th>FC4_Read_Coil_n</th>\n",
              "    </tr>\n",
              "  </thead>\n",
              "  <tbody>\n",
              "    <tr>\n",
              "      <th>0</th>\n",
              "      <td>31-Mar-19</td>\n",
              "      <td>12:36:55</td>\n",
              "      <td>53287</td>\n",
              "      <td>1463</td>\n",
              "      <td>33518</td>\n",
              "      <td>23014</td>\n",
              "      <td>11</td>\n",
              "      <td>30945</td>\n",
              "      <td>43655</td>\n",
              "      <td>1191</td>\n",
              "      <td>27347</td>\n",
              "      <td>18833</td>\n",
              "    </tr>\n",
              "    <tr>\n",
              "      <th>1</th>\n",
              "      <td>31-Mar-19</td>\n",
              "      <td>12:36:58</td>\n",
              "      <td>41029</td>\n",
              "      <td>55891</td>\n",
              "      <td>26004</td>\n",
              "      <td>50645</td>\n",
              "      <td>11</td>\n",
              "      <td>30948</td>\n",
              "      <td>33605</td>\n",
              "      <td>45731</td>\n",
              "      <td>21194</td>\n",
              "      <td>41548</td>\n",
              "    </tr>\n",
              "    <tr>\n",
              "      <th>2</th>\n",
              "      <td>31-Mar-19</td>\n",
              "      <td>12:36:58</td>\n",
              "      <td>41029</td>\n",
              "      <td>55891</td>\n",
              "      <td>26004</td>\n",
              "      <td>50645</td>\n",
              "      <td>11</td>\n",
              "      <td>78022</td>\n",
              "      <td>33605</td>\n",
              "      <td>45731</td>\n",
              "      <td>21194</td>\n",
              "      <td>41548</td>\n",
              "    </tr>\n",
              "    <tr>\n",
              "      <th>3</th>\n",
              "      <td>31-Mar-19</td>\n",
              "      <td>12:37:00</td>\n",
              "      <td>64661</td>\n",
              "      <td>40232</td>\n",
              "      <td>33460</td>\n",
              "      <td>44046</td>\n",
              "      <td>11</td>\n",
              "      <td>78024</td>\n",
              "      <td>52964</td>\n",
              "      <td>32970</td>\n",
              "      <td>27302</td>\n",
              "      <td>36114</td>\n",
              "    </tr>\n",
              "    <tr>\n",
              "      <th>4</th>\n",
              "      <td>31-Mar-19</td>\n",
              "      <td>12:37:01</td>\n",
              "      <td>64661</td>\n",
              "      <td>40232</td>\n",
              "      <td>33460</td>\n",
              "      <td>44046</td>\n",
              "      <td>11</td>\n",
              "      <td>78025</td>\n",
              "      <td>52964</td>\n",
              "      <td>32970</td>\n",
              "      <td>27302</td>\n",
              "      <td>36114</td>\n",
              "    </tr>\n",
              "  </tbody>\n",
              "</table>\n",
              "</div>"
            ],
            "text/plain": [
              "        date        time  ...  FC3_Read_Holding_Register_n  FC4_Read_Coil_n\n",
              "0  31-Mar-19   12:36:55   ...                        27347            18833\n",
              "1  31-Mar-19   12:36:58   ...                        21194            41548\n",
              "2  31-Mar-19    12:36:58  ...                        21194            41548\n",
              "3  31-Mar-19    12:37:00  ...                        27302            36114\n",
              "4  31-Mar-19    12:37:01  ...                        27302            36114\n",
              "\n",
              "[5 rows x 12 columns]"
            ]
          },
          "metadata": {},
          "execution_count": 40
        }
      ]
    },
    {
      "cell_type": "code",
      "metadata": {
        "colab": {
          "base_uri": "https://localhost:8080/",
          "height": 204
        },
        "id": "ZqFgoCUi7k17",
        "outputId": "9a3ba67a-d206-40a0-870b-a2ca7f72f80b"
      },
      "source": [
        "new_inputs = inputs.drop(['date','time','FC1_Read_Input_Register','FC2_Read_Discrete_Value','FC3_Read_Holding_Register','FC4_Read_Coil'],axis = 'columns')\n",
        "new_inputs.head()"
      ],
      "execution_count": null,
      "outputs": [
        {
          "output_type": "execute_result",
          "data": {
            "text/html": [
              "<div>\n",
              "<style scoped>\n",
              "    .dataframe tbody tr th:only-of-type {\n",
              "        vertical-align: middle;\n",
              "    }\n",
              "\n",
              "    .dataframe tbody tr th {\n",
              "        vertical-align: top;\n",
              "    }\n",
              "\n",
              "    .dataframe thead th {\n",
              "        text-align: right;\n",
              "    }\n",
              "</style>\n",
              "<table border=\"1\" class=\"dataframe\">\n",
              "  <thead>\n",
              "    <tr style=\"text-align: right;\">\n",
              "      <th></th>\n",
              "      <th>date_n</th>\n",
              "      <th>time_n</th>\n",
              "      <th>FC1_Read_Input_Register_n</th>\n",
              "      <th>FC2_Read_Discrete_Value_n</th>\n",
              "      <th>FC3_Read_Holding_Register_n</th>\n",
              "      <th>FC4_Read_Coil_n</th>\n",
              "    </tr>\n",
              "  </thead>\n",
              "  <tbody>\n",
              "    <tr>\n",
              "      <th>0</th>\n",
              "      <td>11</td>\n",
              "      <td>30945</td>\n",
              "      <td>43655</td>\n",
              "      <td>1191</td>\n",
              "      <td>27347</td>\n",
              "      <td>18833</td>\n",
              "    </tr>\n",
              "    <tr>\n",
              "      <th>1</th>\n",
              "      <td>11</td>\n",
              "      <td>30948</td>\n",
              "      <td>33605</td>\n",
              "      <td>45731</td>\n",
              "      <td>21194</td>\n",
              "      <td>41548</td>\n",
              "    </tr>\n",
              "    <tr>\n",
              "      <th>2</th>\n",
              "      <td>11</td>\n",
              "      <td>78022</td>\n",
              "      <td>33605</td>\n",
              "      <td>45731</td>\n",
              "      <td>21194</td>\n",
              "      <td>41548</td>\n",
              "    </tr>\n",
              "    <tr>\n",
              "      <th>3</th>\n",
              "      <td>11</td>\n",
              "      <td>78024</td>\n",
              "      <td>52964</td>\n",
              "      <td>32970</td>\n",
              "      <td>27302</td>\n",
              "      <td>36114</td>\n",
              "    </tr>\n",
              "    <tr>\n",
              "      <th>4</th>\n",
              "      <td>11</td>\n",
              "      <td>78025</td>\n",
              "      <td>52964</td>\n",
              "      <td>32970</td>\n",
              "      <td>27302</td>\n",
              "      <td>36114</td>\n",
              "    </tr>\n",
              "  </tbody>\n",
              "</table>\n",
              "</div>"
            ],
            "text/plain": [
              "   date_n  time_n  ...  FC3_Read_Holding_Register_n  FC4_Read_Coil_n\n",
              "0      11   30945  ...                        27347            18833\n",
              "1      11   30948  ...                        21194            41548\n",
              "2      11   78022  ...                        21194            41548\n",
              "3      11   78024  ...                        27302            36114\n",
              "4      11   78025  ...                        27302            36114\n",
              "\n",
              "[5 rows x 6 columns]"
            ]
          },
          "metadata": {},
          "execution_count": 41
        }
      ]
    },
    {
      "cell_type": "code",
      "metadata": {
        "id": "s2eRG8S88Agb"
      },
      "source": [
        "#split dataset in features and target variable\n",
        "feature_cols = ['date_n','time_n','FC1_Read_Input_Register_n','FC2_Read_Discrete_Value_n','FC3_Read_Holding_Register_n','FC4_Read_Coil_n']\n",
        "X = new_inputs[feature_cols] # Features\n",
        "y = target_var # Target variable"
      ],
      "execution_count": null,
      "outputs": []
    },
    {
      "cell_type": "code",
      "metadata": {
        "id": "Uihq06Ga8TU7"
      },
      "source": [
        "# Split dataset into training set and test set\n",
        "X_train, X_test, y_train, y_test = train_test_split(X, y, test_size=0.3, random_state=1) # 70% training and 30% test"
      ],
      "execution_count": null,
      "outputs": []
    },
    {
      "cell_type": "code",
      "metadata": {
        "id": "n7zVPR0d8bE2"
      },
      "source": [
        "# Create Decision Tree classifer object\n",
        "clf = DecisionTreeClassifier()\n",
        "\n",
        "# Train Decision Tree Classifer\n",
        "clf = clf.fit(X_train,y_train)\n",
        "\n",
        "#Predict the response for test dataset\n",
        "y_pred = clf.predict(X_test)"
      ],
      "execution_count": null,
      "outputs": []
    },
    {
      "cell_type": "code",
      "metadata": {
        "colab": {
          "base_uri": "https://localhost:8080/"
        },
        "id": "yEEq8HSP8hYG",
        "outputId": "9ebacf81-8a55-4c44-d350-0499d67c85a5"
      },
      "source": [
        "# Model Accuracy, how often is the classifier correct?\n",
        "print(\"Accuracy:\",metrics.accuracy_score(y_test, y_pred))"
      ],
      "execution_count": null,
      "outputs": [
        {
          "output_type": "stream",
          "name": "stdout",
          "text": [
            "Accuracy: 0.9925602664840586\n"
          ]
        }
      ]
    },
    {
      "cell_type": "code",
      "metadata": {
        "colab": {
          "base_uri": "https://localhost:8080/",
          "height": 265
        },
        "id": "BnaWeEtG8nsR",
        "outputId": "850c72b6-5d4a-412f-aa81-b8ffe981d451"
      },
      "source": [
        "\n",
        "conf_matrix = confusion_matrix(y_test, y_pred)\n",
        "group_names = ['True Positive','False Positive','False Negative','True Negative']\n",
        "group_counts = [\"{0:0.0f}\".format(value) for value in conf_matrix.flatten()]\n",
        "group_percentages = [\"{0:.2%}\".format(value) for value in conf_matrix.flatten()/np.sum(conf_matrix)]\n",
        "labels = [f\"{v1}\\n{v2}\\n{v3}\" for v1, v2, v3 in zip(group_names,group_counts,group_percentages)]\n",
        "labels = np.asarray(labels).reshape(2,2)\n",
        "ax = sns.heatmap(conf_matrix, annot=labels, fmt=\"\", cmap='Blues')\n",
        "ax.xaxis.set_ticklabels([1,0])\n",
        "ax.yaxis.set_ticklabels([1,0])\n",
        "plt.show()"
      ],
      "execution_count": null,
      "outputs": [
        {
          "output_type": "display_data",
          "data": {
            "image/png": "[encoded data removed]",
            "text/plain": [
              "<Figure size 432x288 with 2 Axes>"
            ]
          },
          "metadata": {
            "needs_background": "light"
          }
        }
      ]
    },
    {
      "cell_type": "code",
      "metadata": {
        "colab": {
          "base_uri": "https://localhost:8080/"
        },
        "id": "XiWHq09k8tre",
        "outputId": "03b10eb0-0675-4e6d-8b27-8c170a16ac8d"
      },
      "source": [
        "\n",
        "print(classification_report(y_test, y_pred))"
      ],
      "execution_count": null,
      "outputs": [
        {
          "output_type": "stream",
          "name": "stdout",
          "text": [
            "              precision    recall  f1-score   support\n",
            "\n",
            "           0       1.00      1.00      1.00     66947\n",
            "           1       0.98      0.98      0.98     19212\n",
            "\n",
            "    accuracy                           0.99     86159\n",
            "   macro avg       0.99      0.99      0.99     86159\n",
            "weighted avg       0.99      0.99      0.99     86159\n",
            "\n"
          ]
        }
      ]
    },
    {
      "cell_type": "code",
      "metadata": {
        "id": "vIMN0h-MIxKi"
      },
      "source": [
        "#IoT Motion Light\n",
        "data = pd.read_csv('/content/drive/MyDrive/ToN_IoT_dataset/Processed_IoT_dataset/IoT_Motion_Light.csv')"
      ],
      "execution_count": null,
      "outputs": []
    },
    {
      "cell_type": "code",
      "metadata": {
        "colab": {
          "base_uri": "https://localhost:8080/",
          "height": 419
        },
        "id": "FYB4TizNI4Nt",
        "outputId": "26bfab59-c28c-4e9d-c42b-6de58ce1f48b"
      },
      "source": [
        "data"
      ],
      "execution_count": null,
      "outputs": [
        {
          "output_type": "execute_result",
          "data": {
            "text/html": [
              "<div>\n",
              "<style scoped>\n",
              "    .dataframe tbody tr th:only-of-type {\n",
              "        vertical-align: middle;\n",
              "    }\n",
              "\n",
              "    .dataframe tbody tr th {\n",
              "        vertical-align: top;\n",
              "    }\n",
              "\n",
              "    .dataframe thead th {\n",
              "        text-align: right;\n",
              "    }\n",
              "</style>\n",
              "<table border=\"1\" class=\"dataframe\">\n",
              "  <thead>\n",
              "    <tr style=\"text-align: right;\">\n",
              "      <th></th>\n",
              "      <th>date</th>\n",
              "      <th>time</th>\n",
              "      <th>motion_status</th>\n",
              "      <th>light_status</th>\n",
              "      <th>label</th>\n",
              "      <th>type</th>\n",
              "    </tr>\n",
              "  </thead>\n",
              "  <tbody>\n",
              "    <tr>\n",
              "      <th>0</th>\n",
              "      <td>31-Mar-19</td>\n",
              "      <td>12:36:52</td>\n",
              "      <td>1</td>\n",
              "      <td>on</td>\n",
              "      <td>0</td>\n",
              "      <td>normal</td>\n",
              "    </tr>\n",
              "    <tr>\n",
              "      <th>1</th>\n",
              "      <td>31-Mar-19</td>\n",
              "      <td>12:36:53</td>\n",
              "      <td>0</td>\n",
              "      <td>off</td>\n",
              "      <td>0</td>\n",
              "      <td>normal</td>\n",
              "    </tr>\n",
              "    <tr>\n",
              "      <th>2</th>\n",
              "      <td>31-Mar-19</td>\n",
              "      <td>12:36:54</td>\n",
              "      <td>0</td>\n",
              "      <td>off</td>\n",
              "      <td>0</td>\n",
              "      <td>normal</td>\n",
              "    </tr>\n",
              "    <tr>\n",
              "      <th>3</th>\n",
              "      <td>31-Mar-19</td>\n",
              "      <td>12:36:55</td>\n",
              "      <td>1</td>\n",
              "      <td>on</td>\n",
              "      <td>0</td>\n",
              "      <td>normal</td>\n",
              "    </tr>\n",
              "    <tr>\n",
              "      <th>4</th>\n",
              "      <td>31-Mar-19</td>\n",
              "      <td>12:36:56</td>\n",
              "      <td>1</td>\n",
              "      <td>on</td>\n",
              "      <td>0</td>\n",
              "      <td>normal</td>\n",
              "    </tr>\n",
              "    <tr>\n",
              "      <th>...</th>\n",
              "      <td>...</td>\n",
              "      <td>...</td>\n",
              "      <td>...</td>\n",
              "      <td>...</td>\n",
              "      <td>...</td>\n",
              "      <td>...</td>\n",
              "    </tr>\n",
              "    <tr>\n",
              "      <th>452257</th>\n",
              "      <td>27-Apr-19</td>\n",
              "      <td>12:41:14</td>\n",
              "      <td>0</td>\n",
              "      <td>off</td>\n",
              "      <td>0</td>\n",
              "      <td>normal</td>\n",
              "    </tr>\n",
              "    <tr>\n",
              "      <th>452258</th>\n",
              "      <td>27-Apr-19</td>\n",
              "      <td>12:41:18</td>\n",
              "      <td>0</td>\n",
              "      <td>off</td>\n",
              "      <td>0</td>\n",
              "      <td>normal</td>\n",
              "    </tr>\n",
              "    <tr>\n",
              "      <th>452259</th>\n",
              "      <td>27-Apr-19</td>\n",
              "      <td>12:41:19</td>\n",
              "      <td>1</td>\n",
              "      <td>on</td>\n",
              "      <td>0</td>\n",
              "      <td>normal</td>\n",
              "    </tr>\n",
              "    <tr>\n",
              "      <th>452260</th>\n",
              "      <td>27-Apr-19</td>\n",
              "      <td>12:41:19</td>\n",
              "      <td>1</td>\n",
              "      <td>on</td>\n",
              "      <td>0</td>\n",
              "      <td>normal</td>\n",
              "    </tr>\n",
              "    <tr>\n",
              "      <th>452261</th>\n",
              "      <td>27-Apr-19</td>\n",
              "      <td>12:41:20</td>\n",
              "      <td>0</td>\n",
              "      <td>off</td>\n",
              "      <td>0</td>\n",
              "      <td>normal</td>\n",
              "    </tr>\n",
              "  </tbody>\n",
              "</table>\n",
              "<p>452262 rows × 6 columns</p>\n",
              "</div>"
            ],
            "text/plain": [
              "             date        time  motion_status light_status  label    type\n",
              "0       31-Mar-19    12:36:52              1           on      0  normal\n",
              "1       31-Mar-19    12:36:53              0          off      0  normal\n",
              "2       31-Mar-19    12:36:54              0          off      0  normal\n",
              "3       31-Mar-19    12:36:55              1           on      0  normal\n",
              "4       31-Mar-19    12:36:56              1           on      0  normal\n",
              "...           ...         ...            ...          ...    ...     ...\n",
              "452257  27-Apr-19   12:41:14               0          off      0  normal\n",
              "452258  27-Apr-19   12:41:18               0          off      0  normal\n",
              "452259  27-Apr-19   12:41:19               1           on      0  normal\n",
              "452260  27-Apr-19   12:41:19               1           on      0  normal\n",
              "452261  27-Apr-19   12:41:20               0          off      0  normal\n",
              "\n",
              "[452262 rows x 6 columns]"
            ]
          },
          "metadata": {},
          "execution_count": 49
        }
      ]
    },
    {
      "cell_type": "code",
      "metadata": {
        "colab": {
          "base_uri": "https://localhost:8080/"
        },
        "id": "e8I7ZvD9i1dP",
        "outputId": "2ca52f14-6191-47ab-bb42-c47816e0c71d"
      },
      "source": [
        "print(data.shape)\n",
        "print(\"No of rows\",data.shape[0])\n",
        "print(\"No of columns\",data.shape[1])"
      ],
      "execution_count": null,
      "outputs": [
        {
          "output_type": "stream",
          "name": "stdout",
          "text": [
            "(452262, 6)\n",
            "No of rows 452262\n",
            "No of columns 6\n"
          ]
        }
      ]
    },
    {
      "cell_type": "code",
      "metadata": {
        "colab": {
          "base_uri": "https://localhost:8080/",
          "height": 419
        },
        "id": "Xa3eCWyo9Ibk",
        "outputId": "87dd604d-d85b-4a22-ea96-d55f76e99f66"
      },
      "source": [
        "inputs = data.drop(['label','type'],axis = 'columns')\n",
        "target_var = data['label']\n",
        "inputs"
      ],
      "execution_count": null,
      "outputs": [
        {
          "output_type": "execute_result",
          "data": {
            "text/html": [
              "<div>\n",
              "<style scoped>\n",
              "    .dataframe tbody tr th:only-of-type {\n",
              "        vertical-align: middle;\n",
              "    }\n",
              "\n",
              "    .dataframe tbody tr th {\n",
              "        vertical-align: top;\n",
              "    }\n",
              "\n",
              "    .dataframe thead th {\n",
              "        text-align: right;\n",
              "    }\n",
              "</style>\n",
              "<table border=\"1\" class=\"dataframe\">\n",
              "  <thead>\n",
              "    <tr style=\"text-align: right;\">\n",
              "      <th></th>\n",
              "      <th>date</th>\n",
              "      <th>time</th>\n",
              "      <th>motion_status</th>\n",
              "      <th>light_status</th>\n",
              "    </tr>\n",
              "  </thead>\n",
              "  <tbody>\n",
              "    <tr>\n",
              "      <th>0</th>\n",
              "      <td>31-Mar-19</td>\n",
              "      <td>12:36:52</td>\n",
              "      <td>1</td>\n",
              "      <td>on</td>\n",
              "    </tr>\n",
              "    <tr>\n",
              "      <th>1</th>\n",
              "      <td>31-Mar-19</td>\n",
              "      <td>12:36:53</td>\n",
              "      <td>0</td>\n",
              "      <td>off</td>\n",
              "    </tr>\n",
              "    <tr>\n",
              "      <th>2</th>\n",
              "      <td>31-Mar-19</td>\n",
              "      <td>12:36:54</td>\n",
              "      <td>0</td>\n",
              "      <td>off</td>\n",
              "    </tr>\n",
              "    <tr>\n",
              "      <th>3</th>\n",
              "      <td>31-Mar-19</td>\n",
              "      <td>12:36:55</td>\n",
              "      <td>1</td>\n",
              "      <td>on</td>\n",
              "    </tr>\n",
              "    <tr>\n",
              "      <th>4</th>\n",
              "      <td>31-Mar-19</td>\n",
              "      <td>12:36:56</td>\n",
              "      <td>1</td>\n",
              "      <td>on</td>\n",
              "    </tr>\n",
              "    <tr>\n",
              "      <th>...</th>\n",
              "      <td>...</td>\n",
              "      <td>...</td>\n",
              "      <td>...</td>\n",
              "      <td>...</td>\n",
              "    </tr>\n",
              "    <tr>\n",
              "      <th>452257</th>\n",
              "      <td>27-Apr-19</td>\n",
              "      <td>12:41:14</td>\n",
              "      <td>0</td>\n",
              "      <td>off</td>\n",
              "    </tr>\n",
              "    <tr>\n",
              "      <th>452258</th>\n",
              "      <td>27-Apr-19</td>\n",
              "      <td>12:41:18</td>\n",
              "      <td>0</td>\n",
              "      <td>off</td>\n",
              "    </tr>\n",
              "    <tr>\n",
              "      <th>452259</th>\n",
              "      <td>27-Apr-19</td>\n",
              "      <td>12:41:19</td>\n",
              "      <td>1</td>\n",
              "      <td>on</td>\n",
              "    </tr>\n",
              "    <tr>\n",
              "      <th>452260</th>\n",
              "      <td>27-Apr-19</td>\n",
              "      <td>12:41:19</td>\n",
              "      <td>1</td>\n",
              "      <td>on</td>\n",
              "    </tr>\n",
              "    <tr>\n",
              "      <th>452261</th>\n",
              "      <td>27-Apr-19</td>\n",
              "      <td>12:41:20</td>\n",
              "      <td>0</td>\n",
              "      <td>off</td>\n",
              "    </tr>\n",
              "  </tbody>\n",
              "</table>\n",
              "<p>452262 rows × 4 columns</p>\n",
              "</div>"
            ],
            "text/plain": [
              "             date        time  motion_status light_status\n",
              "0       31-Mar-19    12:36:52              1           on\n",
              "1       31-Mar-19    12:36:53              0          off\n",
              "2       31-Mar-19    12:36:54              0          off\n",
              "3       31-Mar-19    12:36:55              1           on\n",
              "4       31-Mar-19    12:36:56              1           on\n",
              "...           ...         ...            ...          ...\n",
              "452257  27-Apr-19   12:41:14               0          off\n",
              "452258  27-Apr-19   12:41:18               0          off\n",
              "452259  27-Apr-19   12:41:19               1           on\n",
              "452260  27-Apr-19   12:41:19               1           on\n",
              "452261  27-Apr-19   12:41:20               0          off\n",
              "\n",
              "[452262 rows x 4 columns]"
            ]
          },
          "metadata": {},
          "execution_count": 51
        }
      ]
    },
    {
      "cell_type": "code",
      "metadata": {
        "id": "JnKQgR2m9XdK"
      },
      "source": [
        "le_date = LabelEncoder()\n",
        "le_time = LabelEncoder()\n",
        "le_motion_status = LabelEncoder()\n",
        "le_light_status = LabelEncoder()\n"
      ],
      "execution_count": null,
      "outputs": []
    },
    {
      "cell_type": "code",
      "metadata": {
        "colab": {
          "base_uri": "https://localhost:8080/",
          "height": 203
        },
        "id": "wxUB-m5r9jkk",
        "outputId": "b96cfa7c-309b-4b05-de01-284dc5f26023"
      },
      "source": [
        "inputs['date_n'] = le_date.fit_transform(inputs['date'])\n",
        "inputs['time_n'] = le_time.fit_transform(inputs['time'])\n",
        "inputs['motion_status_n'] = le_motion_status.fit_transform(inputs['motion_status'])\n",
        "inputs['light_status_n'] = le_light_status.fit_transform(inputs['light_status'])\n",
        "\n",
        "inputs.head()"
      ],
      "execution_count": null,
      "outputs": [
        {
          "output_type": "execute_result",
          "data": {
            "text/html": [
              "<div>\n",
              "<style scoped>\n",
              "    .dataframe tbody tr th:only-of-type {\n",
              "        vertical-align: middle;\n",
              "    }\n",
              "\n",
              "    .dataframe tbody tr th {\n",
              "        vertical-align: top;\n",
              "    }\n",
              "\n",
              "    .dataframe thead th {\n",
              "        text-align: right;\n",
              "    }\n",
              "</style>\n",
              "<table border=\"1\" class=\"dataframe\">\n",
              "  <thead>\n",
              "    <tr style=\"text-align: right;\">\n",
              "      <th></th>\n",
              "      <th>date</th>\n",
              "      <th>time</th>\n",
              "      <th>motion_status</th>\n",
              "      <th>light_status</th>\n",
              "      <th>date_n</th>\n",
              "      <th>time_n</th>\n",
              "      <th>motion_status_n</th>\n",
              "      <th>light_status_n</th>\n",
              "    </tr>\n",
              "  </thead>\n",
              "  <tbody>\n",
              "    <tr>\n",
              "      <th>0</th>\n",
              "      <td>31-Mar-19</td>\n",
              "      <td>12:36:52</td>\n",
              "      <td>1</td>\n",
              "      <td>on</td>\n",
              "      <td>10</td>\n",
              "      <td>79113</td>\n",
              "      <td>1</td>\n",
              "      <td>1</td>\n",
              "    </tr>\n",
              "    <tr>\n",
              "      <th>1</th>\n",
              "      <td>31-Mar-19</td>\n",
              "      <td>12:36:53</td>\n",
              "      <td>0</td>\n",
              "      <td>off</td>\n",
              "      <td>10</td>\n",
              "      <td>79114</td>\n",
              "      <td>0</td>\n",
              "      <td>0</td>\n",
              "    </tr>\n",
              "    <tr>\n",
              "      <th>2</th>\n",
              "      <td>31-Mar-19</td>\n",
              "      <td>12:36:54</td>\n",
              "      <td>0</td>\n",
              "      <td>off</td>\n",
              "      <td>10</td>\n",
              "      <td>79115</td>\n",
              "      <td>0</td>\n",
              "      <td>0</td>\n",
              "    </tr>\n",
              "    <tr>\n",
              "      <th>3</th>\n",
              "      <td>31-Mar-19</td>\n",
              "      <td>12:36:55</td>\n",
              "      <td>1</td>\n",
              "      <td>on</td>\n",
              "      <td>10</td>\n",
              "      <td>79116</td>\n",
              "      <td>1</td>\n",
              "      <td>1</td>\n",
              "    </tr>\n",
              "    <tr>\n",
              "      <th>4</th>\n",
              "      <td>31-Mar-19</td>\n",
              "      <td>12:36:56</td>\n",
              "      <td>1</td>\n",
              "      <td>on</td>\n",
              "      <td>10</td>\n",
              "      <td>79117</td>\n",
              "      <td>1</td>\n",
              "      <td>1</td>\n",
              "    </tr>\n",
              "  </tbody>\n",
              "</table>\n",
              "</div>"
            ],
            "text/plain": [
              "        date      time  motion_status  ... time_n  motion_status_n  light_status_n\n",
              "0  31-Mar-19  12:36:52              1  ...  79113                1               1\n",
              "1  31-Mar-19  12:36:53              0  ...  79114                0               0\n",
              "2  31-Mar-19  12:36:54              0  ...  79115                0               0\n",
              "3  31-Mar-19  12:36:55              1  ...  79116                1               1\n",
              "4  31-Mar-19  12:36:56              1  ...  79117                1               1\n",
              "\n",
              "[5 rows x 8 columns]"
            ]
          },
          "metadata": {},
          "execution_count": 127
        }
      ]
    },
    {
      "cell_type": "code",
      "metadata": {
        "colab": {
          "base_uri": "https://localhost:8080/",
          "height": 203
        },
        "id": "rONXvvng94TS",
        "outputId": "1196fa8a-5c0b-4a9f-f5a9-67c373033825"
      },
      "source": [
        "new_inputs = inputs.drop(['date','time','motion_status','light_status'],axis = 'columns')\n",
        "new_inputs.head()"
      ],
      "execution_count": null,
      "outputs": [
        {
          "output_type": "execute_result",
          "data": {
            "text/html": [
              "<div>\n",
              "<style scoped>\n",
              "    .dataframe tbody tr th:only-of-type {\n",
              "        vertical-align: middle;\n",
              "    }\n",
              "\n",
              "    .dataframe tbody tr th {\n",
              "        vertical-align: top;\n",
              "    }\n",
              "\n",
              "    .dataframe thead th {\n",
              "        text-align: right;\n",
              "    }\n",
              "</style>\n",
              "<table border=\"1\" class=\"dataframe\">\n",
              "  <thead>\n",
              "    <tr style=\"text-align: right;\">\n",
              "      <th></th>\n",
              "      <th>date_n</th>\n",
              "      <th>time_n</th>\n",
              "      <th>motion_status_n</th>\n",
              "      <th>light_status_n</th>\n",
              "    </tr>\n",
              "  </thead>\n",
              "  <tbody>\n",
              "    <tr>\n",
              "      <th>0</th>\n",
              "      <td>10</td>\n",
              "      <td>79113</td>\n",
              "      <td>1</td>\n",
              "      <td>1</td>\n",
              "    </tr>\n",
              "    <tr>\n",
              "      <th>1</th>\n",
              "      <td>10</td>\n",
              "      <td>79114</td>\n",
              "      <td>0</td>\n",
              "      <td>0</td>\n",
              "    </tr>\n",
              "    <tr>\n",
              "      <th>2</th>\n",
              "      <td>10</td>\n",
              "      <td>79115</td>\n",
              "      <td>0</td>\n",
              "      <td>0</td>\n",
              "    </tr>\n",
              "    <tr>\n",
              "      <th>3</th>\n",
              "      <td>10</td>\n",
              "      <td>79116</td>\n",
              "      <td>1</td>\n",
              "      <td>1</td>\n",
              "    </tr>\n",
              "    <tr>\n",
              "      <th>4</th>\n",
              "      <td>10</td>\n",
              "      <td>79117</td>\n",
              "      <td>1</td>\n",
              "      <td>1</td>\n",
              "    </tr>\n",
              "  </tbody>\n",
              "</table>\n",
              "</div>"
            ],
            "text/plain": [
              "   date_n  time_n  motion_status_n  light_status_n\n",
              "0      10   79113                1               1\n",
              "1      10   79114                0               0\n",
              "2      10   79115                0               0\n",
              "3      10   79116                1               1\n",
              "4      10   79117                1               1"
            ]
          },
          "metadata": {},
          "execution_count": 73
        }
      ]
    },
    {
      "cell_type": "code",
      "metadata": {
        "id": "3Dr6z8qD-PzU"
      },
      "source": [
        "#split dataset in features and target variable\n",
        "feature_cols = ['date_n','time_n','motion_status_n','light_status_n']\n",
        "X = new_inputs[feature_cols] # Features\n",
        "y = target_var # Target variable"
      ],
      "execution_count": null,
      "outputs": []
    },
    {
      "cell_type": "code",
      "metadata": {
        "id": "NtsHunlh_eyb"
      },
      "source": [
        " #Split dataset into training set and test set\n",
        "X_train, X_test, y_train, y_test = train_test_split(X, y, test_size=0.3, random_state=1) # 70% training and 30% test"
      ],
      "execution_count": null,
      "outputs": []
    },
    {
      "cell_type": "code",
      "metadata": {
        "id": "Im7c_Tf-ARX-"
      },
      "source": [
        "# Create Decision Tree classifer object\n",
        "clf = DecisionTreeClassifier()\n",
        "\n",
        "# Train Decision Tree Classifer\n",
        "clf = clf.fit(X_train,y_train)\n",
        "\n",
        "#Predict the response for test dataset\n",
        "y_pred = clf.predict(X_test)"
      ],
      "execution_count": null,
      "outputs": []
    },
    {
      "cell_type": "code",
      "metadata": {
        "colab": {
          "base_uri": "https://localhost:8080/"
        },
        "id": "ZVKszmDKAYhk",
        "outputId": "37bc04c5-4638-4c42-afc2-8d58c163d3f7"
      },
      "source": [
        "# Model Accuracy, how often is the classifier correct?\n",
        "print(\"Accuracy:\",metrics.accuracy_score(y_test, y_pred))"
      ],
      "execution_count": null,
      "outputs": [
        {
          "output_type": "stream",
          "name": "stdout",
          "text": [
            "Accuracy: 0.9954672425356909\n"
          ]
        }
      ]
    },
    {
      "cell_type": "code",
      "metadata": {
        "colab": {
          "base_uri": "https://localhost:8080/",
          "height": 265
        },
        "id": "yVOcZjr-Aejb",
        "outputId": "eec9cfdb-1bf4-4f18-d4f0-ac2e94d020e1"
      },
      "source": [
        "conf_matrix = confusion_matrix(y_test, y_pred)\n",
        "group_names = ['True Pos','False Pos','False Neg','True Neg']\n",
        "group_counts = [\"{0:0.0f}\".format(value) for value in conf_matrix.flatten()]\n",
        "group_percentages = [\"{0:.2%}\".format(value) for value in conf_matrix.flatten()/np.sum(conf_matrix)]\n",
        "labels = [f\"{v1}\\n{v2}\\n{v3}\" for v1, v2, v3 in zip(group_names,group_counts,group_percentages)]\n",
        "labels = np.asarray(labels).reshape(2,2)\n",
        "ax = sns.heatmap(conf_matrix, annot=labels, fmt=\"\", cmap='Blues')\n",
        "ax.xaxis.set_ticklabels([1,0])\n",
        "ax.yaxis.set_ticklabels([1,0])\n",
        "plt.show()"
      ],
      "execution_count": null,
      "outputs": [
        {
          "output_type": "display_data",
          "data": {
            "image/png": "[encoded data removed]",
            "text/plain": [
              "<Figure size 432x288 with 2 Axes>"
            ]
          },
          "metadata": {
            "needs_background": "light"
          }
        }
      ]
    },
    {
      "cell_type": "code",
      "metadata": {
        "id": "CQJCwVkyAkW-",
        "colab": {
          "base_uri": "https://localhost:8080/"
        },
        "outputId": "54f9c198-1e09-4494-dd92-2285462a1208"
      },
      "source": [
        "print(classification_report(y_test, y_pred))"
      ],
      "execution_count": null,
      "outputs": [
        {
          "output_type": "stream",
          "name": "stdout",
          "text": [
            "              precision    recall  f1-score   support\n",
            "\n",
            "           0       1.00      1.00      1.00    116449\n",
            "           1       0.98      0.98      0.98     19230\n",
            "\n",
            "    accuracy                           1.00    135679\n",
            "   macro avg       0.99      0.99      0.99    135679\n",
            "weighted avg       1.00      1.00      1.00    135679\n",
            "\n"
          ]
        }
      ]
    },
    {
      "cell_type": "code",
      "metadata": {
        "id": "loll1gChjD6B"
      },
      "source": [
        "#IoT Thermostat\n",
        "data = pd.read_csv('/content/drive/MyDrive/ToN_IoT_dataset/Processed_IoT_dataset/IoT_Thermostat.csv')"
      ],
      "execution_count": null,
      "outputs": []
    },
    {
      "cell_type": "code",
      "metadata": {
        "colab": {
          "base_uri": "https://localhost:8080/",
          "height": 417
        },
        "id": "skWpKsJkjTBU",
        "outputId": "03d3f047-2cb5-4314-e44a-43568ba7b559"
      },
      "source": [
        "data"
      ],
      "execution_count": null,
      "outputs": [
        {
          "output_type": "execute_result",
          "data": {
            "text/html": [
              "<div>\n",
              "<style scoped>\n",
              "    .dataframe tbody tr th:only-of-type {\n",
              "        vertical-align: middle;\n",
              "    }\n",
              "\n",
              "    .dataframe tbody tr th {\n",
              "        vertical-align: top;\n",
              "    }\n",
              "\n",
              "    .dataframe thead th {\n",
              "        text-align: right;\n",
              "    }\n",
              "</style>\n",
              "<table border=\"1\" class=\"dataframe\">\n",
              "  <thead>\n",
              "    <tr style=\"text-align: right;\">\n",
              "      <th></th>\n",
              "      <th>date</th>\n",
              "      <th>time</th>\n",
              "      <th>current_temperature</th>\n",
              "      <th>thermostat_status</th>\n",
              "      <th>label</th>\n",
              "      <th>type</th>\n",
              "    </tr>\n",
              "  </thead>\n",
              "  <tbody>\n",
              "    <tr>\n",
              "      <th>0</th>\n",
              "      <td>31-Mar-19</td>\n",
              "      <td>12:36:52</td>\n",
              "      <td>25.000000</td>\n",
              "      <td>0</td>\n",
              "      <td>0</td>\n",
              "      <td>normal</td>\n",
              "    </tr>\n",
              "    <tr>\n",
              "      <th>1</th>\n",
              "      <td>31-Mar-19</td>\n",
              "      <td>12:36:53</td>\n",
              "      <td>25.000000</td>\n",
              "      <td>0</td>\n",
              "      <td>0</td>\n",
              "      <td>normal</td>\n",
              "    </tr>\n",
              "    <tr>\n",
              "      <th>2</th>\n",
              "      <td>31-Mar-19</td>\n",
              "      <td>12:36:54</td>\n",
              "      <td>25.000000</td>\n",
              "      <td>0</td>\n",
              "      <td>0</td>\n",
              "      <td>normal</td>\n",
              "    </tr>\n",
              "    <tr>\n",
              "      <th>3</th>\n",
              "      <td>31-Mar-19</td>\n",
              "      <td>12:36:55</td>\n",
              "      <td>25.000000</td>\n",
              "      <td>0</td>\n",
              "      <td>0</td>\n",
              "      <td>normal</td>\n",
              "    </tr>\n",
              "    <tr>\n",
              "      <th>4</th>\n",
              "      <td>31-Mar-19</td>\n",
              "      <td>12:36:56</td>\n",
              "      <td>25.000000</td>\n",
              "      <td>0</td>\n",
              "      <td>0</td>\n",
              "      <td>normal</td>\n",
              "    </tr>\n",
              "    <tr>\n",
              "      <th>...</th>\n",
              "      <td>...</td>\n",
              "      <td>...</td>\n",
              "      <td>...</td>\n",
              "      <td>...</td>\n",
              "      <td>...</td>\n",
              "      <td>...</td>\n",
              "    </tr>\n",
              "    <tr>\n",
              "      <th>442223</th>\n",
              "      <td>27-Apr-19</td>\n",
              "      <td>12:41:14</td>\n",
              "      <td>29.804525</td>\n",
              "      <td>1</td>\n",
              "      <td>0</td>\n",
              "      <td>normal</td>\n",
              "    </tr>\n",
              "    <tr>\n",
              "      <th>442224</th>\n",
              "      <td>27-Apr-19</td>\n",
              "      <td>12:41:18</td>\n",
              "      <td>25.824332</td>\n",
              "      <td>1</td>\n",
              "      <td>0</td>\n",
              "      <td>normal</td>\n",
              "    </tr>\n",
              "    <tr>\n",
              "      <th>442225</th>\n",
              "      <td>27-Apr-19</td>\n",
              "      <td>12:41:19</td>\n",
              "      <td>27.248819</td>\n",
              "      <td>1</td>\n",
              "      <td>0</td>\n",
              "      <td>normal</td>\n",
              "    </tr>\n",
              "    <tr>\n",
              "      <th>442226</th>\n",
              "      <td>27-Apr-19</td>\n",
              "      <td>12:41:19</td>\n",
              "      <td>29.739201</td>\n",
              "      <td>1</td>\n",
              "      <td>0</td>\n",
              "      <td>normal</td>\n",
              "    </tr>\n",
              "    <tr>\n",
              "      <th>442227</th>\n",
              "      <td>27-Apr-19</td>\n",
              "      <td>12:41:20</td>\n",
              "      <td>29.658987</td>\n",
              "      <td>1</td>\n",
              "      <td>0</td>\n",
              "      <td>normal</td>\n",
              "    </tr>\n",
              "  </tbody>\n",
              "</table>\n",
              "<p>442228 rows × 6 columns</p>\n",
              "</div>"
            ],
            "text/plain": [
              "             date        time  ...  label    type\n",
              "0       31-Mar-19    12:36:52  ...      0  normal\n",
              "1       31-Mar-19    12:36:53  ...      0  normal\n",
              "2       31-Mar-19    12:36:54  ...      0  normal\n",
              "3       31-Mar-19    12:36:55  ...      0  normal\n",
              "4       31-Mar-19    12:36:56  ...      0  normal\n",
              "...           ...         ...  ...    ...     ...\n",
              "442223  27-Apr-19   12:41:14   ...      0  normal\n",
              "442224  27-Apr-19   12:41:18   ...      0  normal\n",
              "442225  27-Apr-19   12:41:19   ...      0  normal\n",
              "442226  27-Apr-19   12:41:19   ...      0  normal\n",
              "442227  27-Apr-19   12:41:20   ...      0  normal\n",
              "\n",
              "[442228 rows x 6 columns]"
            ]
          },
          "metadata": {},
          "execution_count": 34
        }
      ]
    },
    {
      "cell_type": "code",
      "source": [
        "data = data.dropna(axis = 0,subset=['date', 'time'])"
      ],
      "metadata": {
        "id": "1DbH682u10E0"
      },
      "execution_count": null,
      "outputs": []
    },
    {
      "cell_type": "code",
      "metadata": {
        "colab": {
          "base_uri": "https://localhost:8080/"
        },
        "id": "5nyxcw-bjWhw",
        "outputId": "7847636d-2f27-4e4a-dad7-f6c73e0b1ff6"
      },
      "source": [
        "print(data.shape)\n",
        "print(\"No of rows\",data.shape[0])\n",
        "print(\"No of columns\",data.shape[1])"
      ],
      "execution_count": null,
      "outputs": [
        {
          "output_type": "stream",
          "name": "stdout",
          "text": [
            "(442228, 6)\n",
            "No of rows 442228\n",
            "No of columns 6\n"
          ]
        }
      ]
    },
    {
      "cell_type": "code",
      "metadata": {
        "colab": {
          "base_uri": "https://localhost:8080/",
          "height": 417
        },
        "id": "YHzGy0YVaiSh",
        "outputId": "e3f6573c-fc3b-4f2b-ff03-770bf7ef9030"
      },
      "source": [
        "inputs = data.drop(['label','type'],axis = 'columns')\n",
        "target_var = data['label']\n",
        "inputs"
      ],
      "execution_count": null,
      "outputs": [
        {
          "output_type": "execute_result",
          "data": {
            "text/html": [
              "<div>\n",
              "<style scoped>\n",
              "    .dataframe tbody tr th:only-of-type {\n",
              "        vertical-align: middle;\n",
              "    }\n",
              "\n",
              "    .dataframe tbody tr th {\n",
              "        vertical-align: top;\n",
              "    }\n",
              "\n",
              "    .dataframe thead th {\n",
              "        text-align: right;\n",
              "    }\n",
              "</style>\n",
              "<table border=\"1\" class=\"dataframe\">\n",
              "  <thead>\n",
              "    <tr style=\"text-align: right;\">\n",
              "      <th></th>\n",
              "      <th>date</th>\n",
              "      <th>time</th>\n",
              "      <th>current_temperature</th>\n",
              "      <th>thermostat_status</th>\n",
              "    </tr>\n",
              "  </thead>\n",
              "  <tbody>\n",
              "    <tr>\n",
              "      <th>0</th>\n",
              "      <td>31-Mar-19</td>\n",
              "      <td>12:36:52</td>\n",
              "      <td>25.000000</td>\n",
              "      <td>0</td>\n",
              "    </tr>\n",
              "    <tr>\n",
              "      <th>1</th>\n",
              "      <td>31-Mar-19</td>\n",
              "      <td>12:36:53</td>\n",
              "      <td>25.000000</td>\n",
              "      <td>0</td>\n",
              "    </tr>\n",
              "    <tr>\n",
              "      <th>2</th>\n",
              "      <td>31-Mar-19</td>\n",
              "      <td>12:36:54</td>\n",
              "      <td>25.000000</td>\n",
              "      <td>0</td>\n",
              "    </tr>\n",
              "    <tr>\n",
              "      <th>3</th>\n",
              "      <td>31-Mar-19</td>\n",
              "      <td>12:36:55</td>\n",
              "      <td>25.000000</td>\n",
              "      <td>0</td>\n",
              "    </tr>\n",
              "    <tr>\n",
              "      <th>4</th>\n",
              "      <td>31-Mar-19</td>\n",
              "      <td>12:36:56</td>\n",
              "      <td>25.000000</td>\n",
              "      <td>0</td>\n",
              "    </tr>\n",
              "    <tr>\n",
              "      <th>...</th>\n",
              "      <td>...</td>\n",
              "      <td>...</td>\n",
              "      <td>...</td>\n",
              "      <td>...</td>\n",
              "    </tr>\n",
              "    <tr>\n",
              "      <th>442223</th>\n",
              "      <td>27-Apr-19</td>\n",
              "      <td>12:41:14</td>\n",
              "      <td>29.804525</td>\n",
              "      <td>1</td>\n",
              "    </tr>\n",
              "    <tr>\n",
              "      <th>442224</th>\n",
              "      <td>27-Apr-19</td>\n",
              "      <td>12:41:18</td>\n",
              "      <td>25.824332</td>\n",
              "      <td>1</td>\n",
              "    </tr>\n",
              "    <tr>\n",
              "      <th>442225</th>\n",
              "      <td>27-Apr-19</td>\n",
              "      <td>12:41:19</td>\n",
              "      <td>27.248819</td>\n",
              "      <td>1</td>\n",
              "    </tr>\n",
              "    <tr>\n",
              "      <th>442226</th>\n",
              "      <td>27-Apr-19</td>\n",
              "      <td>12:41:19</td>\n",
              "      <td>29.739201</td>\n",
              "      <td>1</td>\n",
              "    </tr>\n",
              "    <tr>\n",
              "      <th>442227</th>\n",
              "      <td>27-Apr-19</td>\n",
              "      <td>12:41:20</td>\n",
              "      <td>29.658987</td>\n",
              "      <td>1</td>\n",
              "    </tr>\n",
              "  </tbody>\n",
              "</table>\n",
              "<p>442228 rows × 4 columns</p>\n",
              "</div>"
            ],
            "text/plain": [
              "             date        time  current_temperature  thermostat_status\n",
              "0       31-Mar-19    12:36:52            25.000000                  0\n",
              "1       31-Mar-19    12:36:53            25.000000                  0\n",
              "2       31-Mar-19    12:36:54            25.000000                  0\n",
              "3       31-Mar-19    12:36:55            25.000000                  0\n",
              "4       31-Mar-19    12:36:56            25.000000                  0\n",
              "...           ...         ...                  ...                ...\n",
              "442223  27-Apr-19   12:41:14             29.804525                  1\n",
              "442224  27-Apr-19   12:41:18             25.824332                  1\n",
              "442225  27-Apr-19   12:41:19             27.248819                  1\n",
              "442226  27-Apr-19   12:41:19             29.739201                  1\n",
              "442227  27-Apr-19   12:41:20             29.658987                  1\n",
              "\n",
              "[442228 rows x 4 columns]"
            ]
          },
          "metadata": {},
          "execution_count": 36
        }
      ]
    },
    {
      "cell_type": "code",
      "metadata": {
        "id": "xagZ6mWgasG_"
      },
      "source": [
        "le_date = LabelEncoder()\n",
        "\n",
        "le_time = LabelEncoder()\n",
        "le_current_temperature = LabelEncoder()\n",
        "le_thermostat_status = LabelEncoder()\n"
      ],
      "execution_count": null,
      "outputs": []
    },
    {
      "cell_type": "code",
      "metadata": {
        "colab": {
          "base_uri": "https://localhost:8080/",
          "height": 203
        },
        "id": "K23hOQG7a5_N",
        "outputId": "be865834-e589-4a26-e13e-6ead8a969fe4"
      },
      "source": [
        "inputs['date_n'] = le_date.fit_transform(inputs['date'].astype('str'))\n",
        "inputs['time_n'] = le_time.fit_transform(inputs['time'].astype('str'))\n",
        "inputs['current_temperature_n'] = le_current_temperature.fit_transform(inputs['current_temperature'].astype('str'))\n",
        "inputs['thermostat_status_n'] = le_thermostat_status.fit_transform(inputs['thermostat_status'].astype('str'))\n",
        "\n",
        "inputs.head()"
      ],
      "execution_count": null,
      "outputs": [
        {
          "output_type": "execute_result",
          "data": {
            "text/html": [
              "<div>\n",
              "<style scoped>\n",
              "    .dataframe tbody tr th:only-of-type {\n",
              "        vertical-align: middle;\n",
              "    }\n",
              "\n",
              "    .dataframe tbody tr th {\n",
              "        vertical-align: top;\n",
              "    }\n",
              "\n",
              "    .dataframe thead th {\n",
              "        text-align: right;\n",
              "    }\n",
              "</style>\n",
              "<table border=\"1\" class=\"dataframe\">\n",
              "  <thead>\n",
              "    <tr style=\"text-align: right;\">\n",
              "      <th></th>\n",
              "      <th>date</th>\n",
              "      <th>time</th>\n",
              "      <th>current_temperature</th>\n",
              "      <th>thermostat_status</th>\n",
              "      <th>date_n</th>\n",
              "      <th>time_n</th>\n",
              "      <th>current_temperature_n</th>\n",
              "      <th>thermostat_status_n</th>\n",
              "    </tr>\n",
              "  </thead>\n",
              "  <tbody>\n",
              "    <tr>\n",
              "      <th>0</th>\n",
              "      <td>31-Mar-19</td>\n",
              "      <td>12:36:52</td>\n",
              "      <td>25.0</td>\n",
              "      <td>0</td>\n",
              "      <td>10</td>\n",
              "      <td>79408</td>\n",
              "      <td>1</td>\n",
              "      <td>0</td>\n",
              "    </tr>\n",
              "    <tr>\n",
              "      <th>1</th>\n",
              "      <td>31-Mar-19</td>\n",
              "      <td>12:36:53</td>\n",
              "      <td>25.0</td>\n",
              "      <td>0</td>\n",
              "      <td>10</td>\n",
              "      <td>79409</td>\n",
              "      <td>1</td>\n",
              "      <td>0</td>\n",
              "    </tr>\n",
              "    <tr>\n",
              "      <th>2</th>\n",
              "      <td>31-Mar-19</td>\n",
              "      <td>12:36:54</td>\n",
              "      <td>25.0</td>\n",
              "      <td>0</td>\n",
              "      <td>10</td>\n",
              "      <td>79410</td>\n",
              "      <td>1</td>\n",
              "      <td>0</td>\n",
              "    </tr>\n",
              "    <tr>\n",
              "      <th>3</th>\n",
              "      <td>31-Mar-19</td>\n",
              "      <td>12:36:55</td>\n",
              "      <td>25.0</td>\n",
              "      <td>0</td>\n",
              "      <td>10</td>\n",
              "      <td>79411</td>\n",
              "      <td>1</td>\n",
              "      <td>0</td>\n",
              "    </tr>\n",
              "    <tr>\n",
              "      <th>4</th>\n",
              "      <td>31-Mar-19</td>\n",
              "      <td>12:36:56</td>\n",
              "      <td>25.0</td>\n",
              "      <td>0</td>\n",
              "      <td>10</td>\n",
              "      <td>79412</td>\n",
              "      <td>1</td>\n",
              "      <td>0</td>\n",
              "    </tr>\n",
              "  </tbody>\n",
              "</table>\n",
              "</div>"
            ],
            "text/plain": [
              "        date      time  ...  current_temperature_n  thermostat_status_n\n",
              "0  31-Mar-19  12:36:52  ...                      1                    0\n",
              "1  31-Mar-19  12:36:53  ...                      1                    0\n",
              "2  31-Mar-19  12:36:54  ...                      1                    0\n",
              "3  31-Mar-19  12:36:55  ...                      1                    0\n",
              "4  31-Mar-19  12:36:56  ...                      1                    0\n",
              "\n",
              "[5 rows x 8 columns]"
            ]
          },
          "metadata": {},
          "execution_count": 38
        }
      ]
    },
    {
      "cell_type": "code",
      "metadata": {
        "colab": {
          "base_uri": "https://localhost:8080/",
          "height": 203
        },
        "id": "oss0msLyhU81",
        "outputId": "e9bd2347-1c27-43c7-9da0-faaf9c213bb0"
      },
      "source": [
        "new_inputs = inputs.drop(['date','time','current_temperature','thermostat_status'],axis = 'columns')\n",
        "new_inputs.head()"
      ],
      "execution_count": null,
      "outputs": [
        {
          "output_type": "execute_result",
          "data": {
            "text/html": [
              "<div>\n",
              "<style scoped>\n",
              "    .dataframe tbody tr th:only-of-type {\n",
              "        vertical-align: middle;\n",
              "    }\n",
              "\n",
              "    .dataframe tbody tr th {\n",
              "        vertical-align: top;\n",
              "    }\n",
              "\n",
              "    .dataframe thead th {\n",
              "        text-align: right;\n",
              "    }\n",
              "</style>\n",
              "<table border=\"1\" class=\"dataframe\">\n",
              "  <thead>\n",
              "    <tr style=\"text-align: right;\">\n",
              "      <th></th>\n",
              "      <th>date_n</th>\n",
              "      <th>time_n</th>\n",
              "      <th>current_temperature_n</th>\n",
              "      <th>thermostat_status_n</th>\n",
              "    </tr>\n",
              "  </thead>\n",
              "  <tbody>\n",
              "    <tr>\n",
              "      <th>0</th>\n",
              "      <td>10</td>\n",
              "      <td>79408</td>\n",
              "      <td>1</td>\n",
              "      <td>0</td>\n",
              "    </tr>\n",
              "    <tr>\n",
              "      <th>1</th>\n",
              "      <td>10</td>\n",
              "      <td>79409</td>\n",
              "      <td>1</td>\n",
              "      <td>0</td>\n",
              "    </tr>\n",
              "    <tr>\n",
              "      <th>2</th>\n",
              "      <td>10</td>\n",
              "      <td>79410</td>\n",
              "      <td>1</td>\n",
              "      <td>0</td>\n",
              "    </tr>\n",
              "    <tr>\n",
              "      <th>3</th>\n",
              "      <td>10</td>\n",
              "      <td>79411</td>\n",
              "      <td>1</td>\n",
              "      <td>0</td>\n",
              "    </tr>\n",
              "    <tr>\n",
              "      <th>4</th>\n",
              "      <td>10</td>\n",
              "      <td>79412</td>\n",
              "      <td>1</td>\n",
              "      <td>0</td>\n",
              "    </tr>\n",
              "  </tbody>\n",
              "</table>\n",
              "</div>"
            ],
            "text/plain": [
              "   date_n  time_n  current_temperature_n  thermostat_status_n\n",
              "0      10   79408                      1                    0\n",
              "1      10   79409                      1                    0\n",
              "2      10   79410                      1                    0\n",
              "3      10   79411                      1                    0\n",
              "4      10   79412                      1                    0"
            ]
          },
          "metadata": {},
          "execution_count": 39
        }
      ]
    },
    {
      "cell_type": "code",
      "metadata": {
        "id": "gDZqjA7nhp6z"
      },
      "source": [
        "#split dataset in features and target variable\n",
        "feature_cols = ['date_n','time_n','current_temperature_n','thermostat_status_n']\n",
        "X = new_inputs[feature_cols] # Features\n",
        "y = target_var # Target variable"
      ],
      "execution_count": null,
      "outputs": []
    },
    {
      "cell_type": "code",
      "metadata": {
        "id": "SBHeqFu2h6jk"
      },
      "source": [
        "#Split dataset into training set and test set\n",
        "X_train, X_test, y_train, y_test = train_test_split(X, y, test_size=0.3, random_state=1) # 70% training and 30% test"
      ],
      "execution_count": null,
      "outputs": []
    },
    {
      "cell_type": "code",
      "metadata": {
        "id": "zmcoS5d8h8WF"
      },
      "source": [
        "# Create Decision Tree classifer object\n",
        "clf = DecisionTreeClassifier()\n",
        "\n",
        "# Train Decision Tree Classifer\n",
        "clf = clf.fit(X_train,y_train)\n",
        "\n",
        "#Predict the response for test dataset\n",
        "y_pred = clf.predict(X_test)"
      ],
      "execution_count": null,
      "outputs": []
    },
    {
      "cell_type": "code",
      "metadata": {
        "colab": {
          "base_uri": "https://localhost:8080/"
        },
        "id": "sxpVfoodiDre",
        "outputId": "e5237620-3121-4de1-aa67-dcea4382a6af"
      },
      "source": [
        "# Model Accuracy, how often is the classifier correct?\n",
        "print(\"Accuracy:\",metrics.accuracy_score(y_test, y_pred))"
      ],
      "execution_count": null,
      "outputs": [
        {
          "output_type": "stream",
          "name": "stdout",
          "text": [
            "Accuracy: 0.9947840113364841\n"
          ]
        }
      ]
    },
    {
      "cell_type": "code",
      "metadata": {
        "colab": {
          "base_uri": "https://localhost:8080/",
          "height": 265
        },
        "id": "ewJ8MrbziI-f",
        "outputId": "0b153bd7-493d-4d17-b002-d4d364a64614"
      },
      "source": [
        "conf_matrix = confusion_matrix(y_test, y_pred)\n",
        "group_names = ['True Pos','False Pos','False Neg','True Neg']\n",
        "group_counts = [\"{0:0.0f}\".format(value) for value in conf_matrix.flatten()]\n",
        "group_percentages = [\"{0:.2%}\".format(value) for value in conf_matrix.flatten()/np.sum(conf_matrix)]\n",
        "labels = [f\"{v1}\\n{v2}\\n{v3}\" for v1, v2, v3 in zip(group_names,group_counts,group_percentages)]\n",
        "labels = np.asarray(labels).reshape(2,2)\n",
        "ax = sns.heatmap(conf_matrix, annot=labels, fmt=\"\", cmap='Blues')\n",
        "ax.xaxis.set_ticklabels([1,0])\n",
        "ax.yaxis.set_ticklabels([1,0])\n",
        "plt.show()"
      ],
      "execution_count": null,
      "outputs": [
        {
          "output_type": "display_data",
          "data": {
            "image/png": "[encoded data removed]",
            "text/plain": [
              "<Figure size 432x288 with 2 Axes>"
            ]
          },
          "metadata": {
            "needs_background": "light"
          }
        }
      ]
    },
    {
      "cell_type": "code",
      "metadata": {
        "colab": {
          "base_uri": "https://localhost:8080/"
        },
        "id": "uhVTblEsiKO-",
        "outputId": "a994945c-6ce0-4489-c688-90c2807b64d6"
      },
      "source": [
        "print(classification_report(y_test, y_pred))"
      ],
      "execution_count": null,
      "outputs": [
        {
          "output_type": "stream",
          "name": "stdout",
          "text": [
            "              precision    recall  f1-score   support\n",
            "\n",
            "           0       1.00      1.00      1.00    115759\n",
            "           1       0.98      0.98      0.98     16910\n",
            "\n",
            "    accuracy                           0.99    132669\n",
            "   macro avg       0.99      0.99      0.99    132669\n",
            "weighted avg       0.99      0.99      0.99    132669\n",
            "\n"
          ]
        }
      ]
    },
    {
      "cell_type": "code",
      "metadata": {
        "id": "kTOO-y2Njfl2"
      },
      "source": [
        "#IoT Weather\n",
        "data = pd.read_csv('/content/drive/MyDrive/ToN_IoT_dataset/Processed_IoT_dataset/IoT_Weather.csv')"
      ],
      "execution_count": null,
      "outputs": []
    },
    {
      "cell_type": "code",
      "metadata": {
        "colab": {
          "base_uri": "https://localhost:8080/",
          "height": 419
        },
        "id": "E5Dsqp4RjkQu",
        "outputId": "fb0f1c5c-4198-44cf-cf24-2f2c489e9264"
      },
      "source": [
        "data"
      ],
      "execution_count": null,
      "outputs": [
        {
          "output_type": "execute_result",
          "data": {
            "text/html": [
              "<div>\n",
              "<style scoped>\n",
              "    .dataframe tbody tr th:only-of-type {\n",
              "        vertical-align: middle;\n",
              "    }\n",
              "\n",
              "    .dataframe tbody tr th {\n",
              "        vertical-align: top;\n",
              "    }\n",
              "\n",
              "    .dataframe thead th {\n",
              "        text-align: right;\n",
              "    }\n",
              "</style>\n",
              "<table border=\"1\" class=\"dataframe\">\n",
              "  <thead>\n",
              "    <tr style=\"text-align: right;\">\n",
              "      <th></th>\n",
              "      <th>date</th>\n",
              "      <th>time</th>\n",
              "      <th>temperature</th>\n",
              "      <th>pressure</th>\n",
              "      <th>humidity</th>\n",
              "      <th>label</th>\n",
              "      <th>type</th>\n",
              "    </tr>\n",
              "  </thead>\n",
              "  <tbody>\n",
              "    <tr>\n",
              "      <th>0</th>\n",
              "      <td>31-Mar-19</td>\n",
              "      <td>12:36:52</td>\n",
              "      <td>31.788508</td>\n",
              "      <td>1.035000</td>\n",
              "      <td>32.036579</td>\n",
              "      <td>0</td>\n",
              "      <td>normal</td>\n",
              "    </tr>\n",
              "    <tr>\n",
              "      <th>1</th>\n",
              "      <td>31-Mar-19</td>\n",
              "      <td>12:36:53</td>\n",
              "      <td>41.630997</td>\n",
              "      <td>1.035000</td>\n",
              "      <td>30.886165</td>\n",
              "      <td>0</td>\n",
              "      <td>normal</td>\n",
              "    </tr>\n",
              "    <tr>\n",
              "      <th>2</th>\n",
              "      <td>31-Mar-19</td>\n",
              "      <td>12:36:54</td>\n",
              "      <td>42.256959</td>\n",
              "      <td>1.035000</td>\n",
              "      <td>19.755908</td>\n",
              "      <td>0</td>\n",
              "      <td>normal</td>\n",
              "    </tr>\n",
              "    <tr>\n",
              "      <th>3</th>\n",
              "      <td>31-Mar-19</td>\n",
              "      <td>12:36:55</td>\n",
              "      <td>49.116581</td>\n",
              "      <td>1.035000</td>\n",
              "      <td>78.949621</td>\n",
              "      <td>0</td>\n",
              "      <td>normal</td>\n",
              "    </tr>\n",
              "    <tr>\n",
              "      <th>4</th>\n",
              "      <td>31-Mar-19</td>\n",
              "      <td>12:36:56</td>\n",
              "      <td>24.017085</td>\n",
              "      <td>1.035000</td>\n",
              "      <td>40.001059</td>\n",
              "      <td>0</td>\n",
              "      <td>normal</td>\n",
              "    </tr>\n",
              "    <tr>\n",
              "      <th>...</th>\n",
              "      <td>...</td>\n",
              "      <td>...</td>\n",
              "      <td>...</td>\n",
              "      <td>...</td>\n",
              "      <td>...</td>\n",
              "      <td>...</td>\n",
              "      <td>...</td>\n",
              "    </tr>\n",
              "    <tr>\n",
              "      <th>650237</th>\n",
              "      <td>27-Apr-19</td>\n",
              "      <td>12:41:17</td>\n",
              "      <td>40.384291</td>\n",
              "      <td>9.049059</td>\n",
              "      <td>93.094490</td>\n",
              "      <td>0</td>\n",
              "      <td>normal</td>\n",
              "    </tr>\n",
              "    <tr>\n",
              "      <th>650238</th>\n",
              "      <td>27-Apr-19</td>\n",
              "      <td>12:41:18</td>\n",
              "      <td>47.240113</td>\n",
              "      <td>-5.782022</td>\n",
              "      <td>28.146511</td>\n",
              "      <td>0</td>\n",
              "      <td>normal</td>\n",
              "    </tr>\n",
              "    <tr>\n",
              "      <th>650239</th>\n",
              "      <td>27-Apr-19</td>\n",
              "      <td>12:41:18</td>\n",
              "      <td>23.540606</td>\n",
              "      <td>0.913648</td>\n",
              "      <td>30.478316</td>\n",
              "      <td>0</td>\n",
              "      <td>normal</td>\n",
              "    </tr>\n",
              "    <tr>\n",
              "      <th>650240</th>\n",
              "      <td>27-Apr-19</td>\n",
              "      <td>12:41:18</td>\n",
              "      <td>46.016150</td>\n",
              "      <td>3.493588</td>\n",
              "      <td>73.328413</td>\n",
              "      <td>0</td>\n",
              "      <td>normal</td>\n",
              "    </tr>\n",
              "    <tr>\n",
              "      <th>650241</th>\n",
              "      <td>27-Apr-19</td>\n",
              "      <td>12:41:20</td>\n",
              "      <td>48.082975</td>\n",
              "      <td>0.100271</td>\n",
              "      <td>20.949148</td>\n",
              "      <td>0</td>\n",
              "      <td>normal</td>\n",
              "    </tr>\n",
              "  </tbody>\n",
              "</table>\n",
              "<p>650242 rows × 7 columns</p>\n",
              "</div>"
            ],
            "text/plain": [
              "             date        time  temperature  pressure   humidity  label    type\n",
              "0       31-Mar-19    12:36:52    31.788508  1.035000  32.036579      0  normal\n",
              "1       31-Mar-19    12:36:53    41.630997  1.035000  30.886165      0  normal\n",
              "2       31-Mar-19    12:36:54    42.256959  1.035000  19.755908      0  normal\n",
              "3       31-Mar-19    12:36:55    49.116581  1.035000  78.949621      0  normal\n",
              "4       31-Mar-19    12:36:56    24.017085  1.035000  40.001059      0  normal\n",
              "...           ...         ...          ...       ...        ...    ...     ...\n",
              "650237  27-Apr-19   12:41:17     40.384291  9.049059  93.094490      0  normal\n",
              "650238  27-Apr-19   12:41:18     47.240113 -5.782022  28.146511      0  normal\n",
              "650239  27-Apr-19   12:41:18     23.540606  0.913648  30.478316      0  normal\n",
              "650240  27-Apr-19   12:41:18     46.016150  3.493588  73.328413      0  normal\n",
              "650241  27-Apr-19   12:41:20     48.082975  0.100271  20.949148      0  normal\n",
              "\n",
              "[650242 rows x 7 columns]"
            ]
          },
          "metadata": {},
          "execution_count": 56
        }
      ]
    },
    {
      "cell_type": "code",
      "metadata": {
        "colab": {
          "base_uri": "https://localhost:8080/"
        },
        "id": "vOz1gG7ujnFW",
        "outputId": "1f33c823-da6f-46f8-d731-5f69d93247c0"
      },
      "source": [
        "print(data.shape)\n",
        "print(\"No of rows\",data.shape[0])\n",
        "print(\"No of columns\",data.shape[1])"
      ],
      "execution_count": null,
      "outputs": [
        {
          "output_type": "stream",
          "name": "stdout",
          "text": [
            "(650242, 7)\n",
            "No of rows 650242\n",
            "No of columns 7\n"
          ]
        }
      ]
    },
    {
      "cell_type": "code",
      "metadata": {
        "id": "BUdccWQsyxG9",
        "colab": {
          "base_uri": "https://localhost:8080/",
          "height": 419
        },
        "outputId": "d0fe353b-bbaf-4bd3-d4fb-2fe176594d5d"
      },
      "source": [
        "inputs = data.drop(['label','type'],axis = 'columns')\n",
        "target_var = data['label']\n",
        "inputs\n"
      ],
      "execution_count": null,
      "outputs": [
        {
          "output_type": "execute_result",
          "data": {
            "text/html": [
              "<div>\n",
              "<style scoped>\n",
              "    .dataframe tbody tr th:only-of-type {\n",
              "        vertical-align: middle;\n",
              "    }\n",
              "\n",
              "    .dataframe tbody tr th {\n",
              "        vertical-align: top;\n",
              "    }\n",
              "\n",
              "    .dataframe thead th {\n",
              "        text-align: right;\n",
              "    }\n",
              "</style>\n",
              "<table border=\"1\" class=\"dataframe\">\n",
              "  <thead>\n",
              "    <tr style=\"text-align: right;\">\n",
              "      <th></th>\n",
              "      <th>date</th>\n",
              "      <th>time</th>\n",
              "      <th>temperature</th>\n",
              "      <th>pressure</th>\n",
              "      <th>humidity</th>\n",
              "    </tr>\n",
              "  </thead>\n",
              "  <tbody>\n",
              "    <tr>\n",
              "      <th>0</th>\n",
              "      <td>31-Mar-19</td>\n",
              "      <td>12:36:52</td>\n",
              "      <td>31.788508</td>\n",
              "      <td>1.035000</td>\n",
              "      <td>32.036579</td>\n",
              "    </tr>\n",
              "    <tr>\n",
              "      <th>1</th>\n",
              "      <td>31-Mar-19</td>\n",
              "      <td>12:36:53</td>\n",
              "      <td>41.630997</td>\n",
              "      <td>1.035000</td>\n",
              "      <td>30.886165</td>\n",
              "    </tr>\n",
              "    <tr>\n",
              "      <th>2</th>\n",
              "      <td>31-Mar-19</td>\n",
              "      <td>12:36:54</td>\n",
              "      <td>42.256959</td>\n",
              "      <td>1.035000</td>\n",
              "      <td>19.755908</td>\n",
              "    </tr>\n",
              "    <tr>\n",
              "      <th>3</th>\n",
              "      <td>31-Mar-19</td>\n",
              "      <td>12:36:55</td>\n",
              "      <td>49.116581</td>\n",
              "      <td>1.035000</td>\n",
              "      <td>78.949621</td>\n",
              "    </tr>\n",
              "    <tr>\n",
              "      <th>4</th>\n",
              "      <td>31-Mar-19</td>\n",
              "      <td>12:36:56</td>\n",
              "      <td>24.017085</td>\n",
              "      <td>1.035000</td>\n",
              "      <td>40.001059</td>\n",
              "    </tr>\n",
              "    <tr>\n",
              "      <th>...</th>\n",
              "      <td>...</td>\n",
              "      <td>...</td>\n",
              "      <td>...</td>\n",
              "      <td>...</td>\n",
              "      <td>...</td>\n",
              "    </tr>\n",
              "    <tr>\n",
              "      <th>650237</th>\n",
              "      <td>27-Apr-19</td>\n",
              "      <td>12:41:17</td>\n",
              "      <td>40.384291</td>\n",
              "      <td>9.049059</td>\n",
              "      <td>93.094490</td>\n",
              "    </tr>\n",
              "    <tr>\n",
              "      <th>650238</th>\n",
              "      <td>27-Apr-19</td>\n",
              "      <td>12:41:18</td>\n",
              "      <td>47.240113</td>\n",
              "      <td>-5.782022</td>\n",
              "      <td>28.146511</td>\n",
              "    </tr>\n",
              "    <tr>\n",
              "      <th>650239</th>\n",
              "      <td>27-Apr-19</td>\n",
              "      <td>12:41:18</td>\n",
              "      <td>23.540606</td>\n",
              "      <td>0.913648</td>\n",
              "      <td>30.478316</td>\n",
              "    </tr>\n",
              "    <tr>\n",
              "      <th>650240</th>\n",
              "      <td>27-Apr-19</td>\n",
              "      <td>12:41:18</td>\n",
              "      <td>46.016150</td>\n",
              "      <td>3.493588</td>\n",
              "      <td>73.328413</td>\n",
              "    </tr>\n",
              "    <tr>\n",
              "      <th>650241</th>\n",
              "      <td>27-Apr-19</td>\n",
              "      <td>12:41:20</td>\n",
              "      <td>48.082975</td>\n",
              "      <td>0.100271</td>\n",
              "      <td>20.949148</td>\n",
              "    </tr>\n",
              "  </tbody>\n",
              "</table>\n",
              "<p>650242 rows × 5 columns</p>\n",
              "</div>"
            ],
            "text/plain": [
              "             date        time  temperature  pressure   humidity\n",
              "0       31-Mar-19    12:36:52    31.788508  1.035000  32.036579\n",
              "1       31-Mar-19    12:36:53    41.630997  1.035000  30.886165\n",
              "2       31-Mar-19    12:36:54    42.256959  1.035000  19.755908\n",
              "3       31-Mar-19    12:36:55    49.116581  1.035000  78.949621\n",
              "4       31-Mar-19    12:36:56    24.017085  1.035000  40.001059\n",
              "...           ...         ...          ...       ...        ...\n",
              "650237  27-Apr-19   12:41:17     40.384291  9.049059  93.094490\n",
              "650238  27-Apr-19   12:41:18     47.240113 -5.782022  28.146511\n",
              "650239  27-Apr-19   12:41:18     23.540606  0.913648  30.478316\n",
              "650240  27-Apr-19   12:41:18     46.016150  3.493588  73.328413\n",
              "650241  27-Apr-19   12:41:20     48.082975  0.100271  20.949148\n",
              "\n",
              "[650242 rows x 5 columns]"
            ]
          },
          "metadata": {},
          "execution_count": 58
        }
      ]
    },
    {
      "cell_type": "code",
      "metadata": {
        "id": "qSPXEg1NGfQv"
      },
      "source": [
        "le_date = LabelEncoder()\n",
        "le_time = LabelEncoder()\n",
        "le_temperature = LabelEncoder()\n",
        "le_pressure = LabelEncoder()\n",
        "le_humidity = LabelEncoder()"
      ],
      "execution_count": null,
      "outputs": []
    },
    {
      "cell_type": "code",
      "metadata": {
        "id": "p7ZDkrIpNVzm",
        "colab": {
          "base_uri": "https://localhost:8080/",
          "height": 204
        },
        "outputId": "cb4f0fb5-e19a-4448-97f4-32ad5da16459"
      },
      "source": [
        "inputs['date_n'] = le_date.fit_transform(inputs['date'])\n",
        "inputs['time_n'] = le_time.fit_transform(inputs['time'])\n",
        "inputs['temperature_n'] = le_temperature.fit_transform(inputs['temperature'])\n",
        "inputs['pressure_n'] = le_pressure.fit_transform(inputs['pressure'])\n",
        "inputs['humidity_n'] = le_humidity.fit_transform(inputs['humidity'])\n",
        "inputs.head()"
      ],
      "execution_count": null,
      "outputs": [
        {
          "output_type": "execute_result",
          "data": {
            "text/html": [
              "<div>\n",
              "<style scoped>\n",
              "    .dataframe tbody tr th:only-of-type {\n",
              "        vertical-align: middle;\n",
              "    }\n",
              "\n",
              "    .dataframe tbody tr th {\n",
              "        vertical-align: top;\n",
              "    }\n",
              "\n",
              "    .dataframe thead th {\n",
              "        text-align: right;\n",
              "    }\n",
              "</style>\n",
              "<table border=\"1\" class=\"dataframe\">\n",
              "  <thead>\n",
              "    <tr style=\"text-align: right;\">\n",
              "      <th></th>\n",
              "      <th>date</th>\n",
              "      <th>time</th>\n",
              "      <th>temperature</th>\n",
              "      <th>pressure</th>\n",
              "      <th>humidity</th>\n",
              "      <th>date_n</th>\n",
              "      <th>time_n</th>\n",
              "      <th>temperature_n</th>\n",
              "      <th>pressure_n</th>\n",
              "      <th>humidity_n</th>\n",
              "    </tr>\n",
              "  </thead>\n",
              "  <tbody>\n",
              "    <tr>\n",
              "      <th>0</th>\n",
              "      <td>31-Mar-19</td>\n",
              "      <td>12:36:52</td>\n",
              "      <td>31.788508</td>\n",
              "      <td>1.035</td>\n",
              "      <td>32.036579</td>\n",
              "      <td>11</td>\n",
              "      <td>77572</td>\n",
              "      <td>187945</td>\n",
              "      <td>32817</td>\n",
              "      <td>29574</td>\n",
              "    </tr>\n",
              "    <tr>\n",
              "      <th>1</th>\n",
              "      <td>31-Mar-19</td>\n",
              "      <td>12:36:53</td>\n",
              "      <td>41.630997</td>\n",
              "      <td>1.035</td>\n",
              "      <td>30.886165</td>\n",
              "      <td>11</td>\n",
              "      <td>77573</td>\n",
              "      <td>388149</td>\n",
              "      <td>32817</td>\n",
              "      <td>28321</td>\n",
              "    </tr>\n",
              "    <tr>\n",
              "      <th>2</th>\n",
              "      <td>31-Mar-19</td>\n",
              "      <td>12:36:54</td>\n",
              "      <td>42.256959</td>\n",
              "      <td>1.035</td>\n",
              "      <td>19.755908</td>\n",
              "      <td>11</td>\n",
              "      <td>77574</td>\n",
              "      <td>402748</td>\n",
              "      <td>32817</td>\n",
              "      <td>16911</td>\n",
              "    </tr>\n",
              "    <tr>\n",
              "      <th>3</th>\n",
              "      <td>31-Mar-19</td>\n",
              "      <td>12:36:55</td>\n",
              "      <td>49.116581</td>\n",
              "      <td>1.035</td>\n",
              "      <td>78.949621</td>\n",
              "      <td>11</td>\n",
              "      <td>77575</td>\n",
              "      <td>562045</td>\n",
              "      <td>32817</td>\n",
              "      <td>83485</td>\n",
              "    </tr>\n",
              "    <tr>\n",
              "      <th>4</th>\n",
              "      <td>31-Mar-19</td>\n",
              "      <td>12:36:56</td>\n",
              "      <td>24.017085</td>\n",
              "      <td>1.035</td>\n",
              "      <td>40.001059</td>\n",
              "      <td>11</td>\n",
              "      <td>77576</td>\n",
              "      <td>53759</td>\n",
              "      <td>32817</td>\n",
              "      <td>38182</td>\n",
              "    </tr>\n",
              "  </tbody>\n",
              "</table>\n",
              "</div>"
            ],
            "text/plain": [
              "        date      time  temperature  ...  temperature_n  pressure_n  humidity_n\n",
              "0  31-Mar-19  12:36:52    31.788508  ...         187945       32817       29574\n",
              "1  31-Mar-19  12:36:53    41.630997  ...         388149       32817       28321\n",
              "2  31-Mar-19  12:36:54    42.256959  ...         402748       32817       16911\n",
              "3  31-Mar-19  12:36:55    49.116581  ...         562045       32817       83485\n",
              "4  31-Mar-19  12:36:56    24.017085  ...          53759       32817       38182\n",
              "\n",
              "[5 rows x 10 columns]"
            ]
          },
          "metadata": {},
          "execution_count": 60
        }
      ]
    },
    {
      "cell_type": "code",
      "metadata": {
        "colab": {
          "base_uri": "https://localhost:8080/",
          "height": 204
        },
        "id": "NUtRQUR1TbM2",
        "outputId": "3daafa16-3624-4a08-e669-6ce960e8f2b6"
      },
      "source": [
        "new_inputs = inputs.drop(['date','time','temperature','pressure','humidity'],axis = 'columns')\n",
        "new_inputs.head()"
      ],
      "execution_count": null,
      "outputs": [
        {
          "output_type": "execute_result",
          "data": {
            "text/html": [
              "<div>\n",
              "<style scoped>\n",
              "    .dataframe tbody tr th:only-of-type {\n",
              "        vertical-align: middle;\n",
              "    }\n",
              "\n",
              "    .dataframe tbody tr th {\n",
              "        vertical-align: top;\n",
              "    }\n",
              "\n",
              "    .dataframe thead th {\n",
              "        text-align: right;\n",
              "    }\n",
              "</style>\n",
              "<table border=\"1\" class=\"dataframe\">\n",
              "  <thead>\n",
              "    <tr style=\"text-align: right;\">\n",
              "      <th></th>\n",
              "      <th>date_n</th>\n",
              "      <th>time_n</th>\n",
              "      <th>temperature_n</th>\n",
              "      <th>pressure_n</th>\n",
              "      <th>humidity_n</th>\n",
              "    </tr>\n",
              "  </thead>\n",
              "  <tbody>\n",
              "    <tr>\n",
              "      <th>0</th>\n",
              "      <td>11</td>\n",
              "      <td>77572</td>\n",
              "      <td>187945</td>\n",
              "      <td>32817</td>\n",
              "      <td>29574</td>\n",
              "    </tr>\n",
              "    <tr>\n",
              "      <th>1</th>\n",
              "      <td>11</td>\n",
              "      <td>77573</td>\n",
              "      <td>388149</td>\n",
              "      <td>32817</td>\n",
              "      <td>28321</td>\n",
              "    </tr>\n",
              "    <tr>\n",
              "      <th>2</th>\n",
              "      <td>11</td>\n",
              "      <td>77574</td>\n",
              "      <td>402748</td>\n",
              "      <td>32817</td>\n",
              "      <td>16911</td>\n",
              "    </tr>\n",
              "    <tr>\n",
              "      <th>3</th>\n",
              "      <td>11</td>\n",
              "      <td>77575</td>\n",
              "      <td>562045</td>\n",
              "      <td>32817</td>\n",
              "      <td>83485</td>\n",
              "    </tr>\n",
              "    <tr>\n",
              "      <th>4</th>\n",
              "      <td>11</td>\n",
              "      <td>77576</td>\n",
              "      <td>53759</td>\n",
              "      <td>32817</td>\n",
              "      <td>38182</td>\n",
              "    </tr>\n",
              "  </tbody>\n",
              "</table>\n",
              "</div>"
            ],
            "text/plain": [
              "   date_n  time_n  temperature_n  pressure_n  humidity_n\n",
              "0      11   77572         187945       32817       29574\n",
              "1      11   77573         388149       32817       28321\n",
              "2      11   77574         402748       32817       16911\n",
              "3      11   77575         562045       32817       83485\n",
              "4      11   77576          53759       32817       38182"
            ]
          },
          "metadata": {},
          "execution_count": 61
        }
      ]
    },
    {
      "cell_type": "code",
      "metadata": {
        "id": "iIQ_HPCAWR5e"
      },
      "source": [
        "#split dataset in features and target variable\n",
        "feature_cols = ['date_n', 'time_n', 'temperature_n', 'pressure_n', 'humidity_n']\n",
        "X = new_inputs[feature_cols] # Features\n",
        "y = target_var # Target variable"
      ],
      "execution_count": null,
      "outputs": []
    },
    {
      "cell_type": "code",
      "metadata": {
        "id": "E412Yge1WmTq"
      },
      "source": [
        "# Split dataset into training set and test set\n",
        "X_train, X_test, y_train, y_test = train_test_split(X, y, test_size=0.3, random_state=10) # 70% training and 30% test"
      ],
      "execution_count": null,
      "outputs": []
    },
    {
      "cell_type": "code",
      "metadata": {
        "id": "_c6NiEmFWv9Y"
      },
      "source": [
        "# Create Decision Tree classifer object\n",
        "clf = DecisionTreeClassifier()\n",
        "\n",
        "# Train Decision Tree Classifer\n",
        "clf = clf.fit(X_train,y_train)\n",
        "\n",
        "#Predict the response for test dataset\n",
        "y_pred = clf.predict(X_test)"
      ],
      "execution_count": null,
      "outputs": []
    },
    {
      "cell_type": "code",
      "metadata": {
        "colab": {
          "base_uri": "https://localhost:8080/"
        },
        "id": "R30Yzsu-W166",
        "outputId": "cdac48ad-733c-4a0f-deca-e07a2a161664"
      },
      "source": [
        "# Model Accuracy, how often is the classifier correct?\n",
        "print(\"Accuracy:\",metrics.accuracy_score(y_test, y_pred))"
      ],
      "execution_count": null,
      "outputs": [
        {
          "output_type": "stream",
          "name": "stdout",
          "text": [
            "Accuracy: 0.9947404305055031\n"
          ]
        }
      ]
    },
    {
      "cell_type": "code",
      "metadata": {
        "colab": {
          "base_uri": "https://localhost:8080/",
          "height": 265
        },
        "id": "ENwdwhP5XSbH",
        "outputId": "abc291f7-1f70-4ab6-c2ac-8e2ae11719f1"
      },
      "source": [
        "conf_matrix = confusion_matrix(y_test, y_pred)\n",
        "group_names = ['True Pos','False Pos','False Neg','True Neg']\n",
        "group_counts = [\"{0:0.0f}\".format(value) for value in conf_matrix.flatten()]\n",
        "group_percentages = [\"{0:.2%}\".format(value) for value in conf_matrix.flatten()/np.sum(conf_matrix)]\n",
        "labels = [f\"{v1}\\n{v2}\\n{v3}\" for v1, v2, v3 in zip(group_names,group_counts,group_percentages)]\n",
        "labels = np.asarray(labels).reshape(2,2)\n",
        "ax = sns.heatmap(conf_matrix, annot=labels, fmt=\"\", cmap='Blues')\n",
        "ax.xaxis.set_ticklabels([1,0])\n",
        "ax.yaxis.set_ticklabels([1,0])\n",
        "plt.show()"
      ],
      "execution_count": null,
      "outputs": [
        {
          "output_type": "display_data",
          "data": {
            "image/png": "[encoded data removed]",
            "text/plain": [
              "<Figure size 432x288 with 2 Axes>"
            ]
          },
          "metadata": {
            "needs_background": "light"
          }
        }
      ]
    },
    {
      "cell_type": "code",
      "metadata": {
        "colab": {
          "base_uri": "https://localhost:8080/"
        },
        "id": "FPlhLyXChZSF",
        "outputId": "66e6f527-122a-4d79-d841-676df2889f23"
      },
      "source": [
        "print(classification_report(y_test, y_pred))"
      ],
      "execution_count": null,
      "outputs": [
        {
          "output_type": "stream",
          "name": "stdout",
          "text": [
            "              precision    recall  f1-score   support\n",
            "\n",
            "           0       1.00      1.00      1.00    168084\n",
            "           1       0.98      0.98      0.98     26989\n",
            "\n",
            "    accuracy                           0.99    195073\n",
            "   macro avg       0.99      0.99      0.99    195073\n",
            "weighted avg       0.99      0.99      0.99    195073\n",
            "\n"
          ]
        }
      ]
    }
  ]
}